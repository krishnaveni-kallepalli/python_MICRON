{
 "cells": [
  {
   "cell_type": "code",
   "execution_count": 7,
   "id": "19b3b98f",
   "metadata": {},
   "outputs": [],
   "source": [
    "#helloworld"
   ]
  },
  {
   "cell_type": "code",
   "execution_count": null,
   "id": "5b80a03f",
   "metadata": {},
   "outputs": [],
   "source": [
    "print(\"Helloworld\",end='')\n",
    "print(\"Helloworld\")\n"
   ]
  },
  {
   "cell_type": "code",
   "execution_count": null,
   "id": "69655853",
   "metadata": {},
   "outputs": [],
   "source": [
    "# Add 2 nums"
   ]
  },
  {
   "cell_type": "code",
   "execution_count": 5,
   "id": "06bbb0a1",
   "metadata": {},
   "outputs": [
    {
     "name": "stdout",
     "output_type": "stream",
     "text": [
      "Enter a:2\n",
      "Enter b:3\n",
      "5\n"
     ]
    }
   ],
   "source": [
    "def add(a,b):\n",
    "    print(a+b)\n",
    "a=int(input(\"Enter a:\"))\n",
    "b=int(input(\"Enter b:\"))\n",
    "add(a,b)\n"
   ]
  },
  {
   "cell_type": "code",
   "execution_count": 6,
   "id": "889d6c3c",
   "metadata": {},
   "outputs": [
    {
     "name": "stdout",
     "output_type": "stream",
     "text": [
      "Enter a:2\n",
      "Enter b:3\n"
     ]
    },
    {
     "data": {
      "text/plain": [
       "5"
      ]
     },
     "execution_count": 6,
     "metadata": {},
     "output_type": "execute_result"
    }
   ],
   "source": [
    "def add(a,b):\n",
    "    return a+b\n",
    "a=int(input(\"Enter a:\"))\n",
    "b=int(input(\"Enter b:\"))\n",
    "add(a,b)"
   ]
  },
  {
   "cell_type": "code",
   "execution_count": 8,
   "id": "a5c065e5",
   "metadata": {},
   "outputs": [],
   "source": [
    "# Find Sqroot"
   ]
  },
  {
   "cell_type": "code",
   "execution_count": 9,
   "id": "c43d06bc",
   "metadata": {},
   "outputs": [
    {
     "name": "stdout",
     "output_type": "stream",
     "text": [
      "Enter num:8\n",
      "2.8284271247461903\n"
     ]
    }
   ],
   "source": [
    "def sqroot(num):\n",
    "    num=num**0.5\n",
    "    print(float(num))\n",
    "num=int(input(\"Enter num:\"))\n",
    "sqroot(num)"
   ]
  },
  {
   "cell_type": "code",
   "execution_count": 10,
   "id": "62cfcce6",
   "metadata": {},
   "outputs": [
    {
     "name": "stdout",
     "output_type": "stream",
     "text": [
      "Enter num:8\n"
     ]
    },
    {
     "data": {
      "text/plain": [
       "2.8284271247461903"
      ]
     },
     "execution_count": 10,
     "metadata": {},
     "output_type": "execute_result"
    }
   ],
   "source": [
    "def sqroot(num):\n",
    "    return float(num**0.5)\n",
    "    \n",
    "num=int(input(\"Enter num:\"))\n",
    "sqroot(num)"
   ]
  },
  {
   "cell_type": "code",
   "execution_count": null,
   "id": "8e77f0da",
   "metadata": {},
   "outputs": [],
   "source": [
    "# Swap 2 nums"
   ]
  },
  {
   "cell_type": "code",
   "execution_count": 12,
   "id": "1042ba83",
   "metadata": {},
   "outputs": [
    {
     "name": "stdout",
     "output_type": "stream",
     "text": [
      "Enter a:2\n",
      "Enter b:3\n",
      "3 2\n"
     ]
    },
    {
     "data": {
      "text/plain": [
       "(3, 2)"
      ]
     },
     "execution_count": 12,
     "metadata": {},
     "output_type": "execute_result"
    }
   ],
   "source": [
    "def swap(a,b):\n",
    "    a=a^b\n",
    "    b=a^b\n",
    "    a=a^b\n",
    "    print(a,b)\n",
    "    return a,b\n",
    "\n",
    "a=int(input(\"Enter a:\"))\n",
    "b=int(input(\"Enter b:\"))\n",
    "swap(a,b)"
   ]
  },
  {
   "cell_type": "code",
   "execution_count": 13,
   "id": "59aba255",
   "metadata": {},
   "outputs": [
    {
     "name": "stdout",
     "output_type": "stream",
     "text": [
      "Enter a:2\n",
      "Enter b:3\n",
      "3 2\n"
     ]
    }
   ],
   "source": [
    "def swap(a,b):\n",
    "    a=a+b\n",
    "    b=a-b\n",
    "    a=a-b\n",
    "    print(a,b)\n",
    "a=int(input(\"Enter a:\"))\n",
    "b=int(input(\"Enter b:\"))\n",
    "swap(a,b)"
   ]
  },
  {
   "cell_type": "code",
   "execution_count": 16,
   "id": "18f0858d",
   "metadata": {},
   "outputs": [
    {
     "name": "stdout",
     "output_type": "stream",
     "text": [
      "Enter a:55\n",
      "Enter b:65\n",
      "65.0 55.0\n"
     ]
    }
   ],
   "source": [
    "def swap(a,b):\n",
    "    a=a*b\n",
    "    b=a/b\n",
    "    a=a/b\n",
    "    print(a,b)\n",
    "a=int(input(\"Enter a:\"))\n",
    "b=int(input(\"Enter b:\"))\n",
    "swap(a,b)"
   ]
  },
  {
   "cell_type": "code",
   "execution_count": 17,
   "id": "bcd3bbc8",
   "metadata": {},
   "outputs": [],
   "source": [
    "# Generate random number"
   ]
  },
  {
   "cell_type": "code",
   "execution_count": 20,
   "id": "f935d564",
   "metadata": {},
   "outputs": [
    {
     "name": "stdout",
     "output_type": "stream",
     "text": [
      "4\n"
     ]
    }
   ],
   "source": [
    "import random \n",
    "print(random.randint(0,9))"
   ]
  },
  {
   "cell_type": "code",
   "execution_count": null,
   "id": "19fe055b",
   "metadata": {},
   "outputs": [],
   "source": [
    "# multiply 2 nums without *"
   ]
  },
  {
   "cell_type": "code",
   "execution_count": 2,
   "id": "4ce08166",
   "metadata": {},
   "outputs": [
    {
     "name": "stdout",
     "output_type": "stream",
     "text": [
      "Enter x:2\n",
      "Enter y:3\n",
      "6\n"
     ]
    }
   ],
   "source": [
    "def mul(x,y):\n",
    "    p=0\n",
    "    while(y!=0):\n",
    "        p=p+x\n",
    "        y=y-1\n",
    "    print(p)\n",
    "x=int(input(\"Enter x:\"))\n",
    "y=int(input(\"Enter y:\"))\n",
    "mul(x,y)"
   ]
  },
  {
   "cell_type": "code",
   "execution_count": 3,
   "id": "1ca8d68a",
   "metadata": {},
   "outputs": [],
   "source": [
    "#sum of n natural nums"
   ]
  },
  {
   "cell_type": "code",
   "execution_count": 5,
   "id": "4c2acf34",
   "metadata": {},
   "outputs": [
    {
     "name": "stdout",
     "output_type": "stream",
     "text": [
      "Enter range:2\n",
      "3\n"
     ]
    }
   ],
   "source": [
    "def sumofn(n):\n",
    "    sum=0\n",
    "    for i in range(1,n+1):\n",
    "        sum=sum+i\n",
    "    print(sum)\n",
    "n=int(input(\"Enter range:\"))\n",
    "sumofn(n)"
   ]
  },
  {
   "cell_type": "code",
   "execution_count": 6,
   "id": "eb3012ca",
   "metadata": {},
   "outputs": [],
   "source": [
    "#m^n"
   ]
  },
  {
   "cell_type": "code",
   "execution_count": 7,
   "id": "abf2e7cb",
   "metadata": {},
   "outputs": [
    {
     "name": "stdout",
     "output_type": "stream",
     "text": [
      "Enter m:2\n",
      "Enter n:3\n",
      "2^3=8\n"
     ]
    }
   ],
   "source": [
    "def powerof2(m,n):\n",
    "    res=m**n\n",
    "    print(\"{0}^{1}={2}\".format(m,n,res))\n",
    "m=int(input(\"Enter m:\"))\n",
    "n= int(input(\"Enter n:\"))\n",
    "powerof2(m,n)"
   ]
  },
  {
   "cell_type": "code",
   "execution_count": 8,
   "id": "51a99795",
   "metadata": {},
   "outputs": [],
   "source": [
    "# power of 2"
   ]
  },
  {
   "cell_type": "code",
   "execution_count": null,
   "id": "e15bf544",
   "metadata": {},
   "outputs": [],
   "source": [
    "def powerof2(x,n):\n",
    "    res=2**n\n",
    "    print(res)\n",
    "n= int(input(\"Enter n:\"))\n",
    "powerof2(2,n)"
   ]
  },
  {
   "cell_type": "code",
   "execution_count": 9,
   "id": "d7dc5e33",
   "metadata": {},
   "outputs": [
    {
     "name": "stdout",
     "output_type": "stream",
     "text": [
      "Enter n:3\n",
      "8\n"
     ]
    }
   ],
   "source": [
    "def powerof2(m,n):\n",
    "    m=2\n",
    "    res=2**n\n",
    "    print(res)\n",
    "n= int(input(\"Enter n:\"))\n",
    "powerof2(m,n)"
   ]
  },
  {
   "cell_type": "code",
   "execution_count": 11,
   "id": "d6c9dd58",
   "metadata": {},
   "outputs": [
    {
     "name": "stdout",
     "output_type": "stream",
     "text": [
      "ENter a characterB\n",
      "66\n"
     ]
    }
   ],
   "source": [
    "def asciival(n):\n",
    "    print(ord(n))\n",
    "n=input(\"ENter a character\")\n",
    "asciival(n)"
   ]
  },
  {
   "cell_type": "code",
   "execution_count": 14,
   "id": "a9ca5527",
   "metadata": {},
   "outputs": [
    {
     "name": "stdout",
     "output_type": "stream",
     "text": [
      "'My name is St\\xe5le'\n"
     ]
    }
   ],
   "source": [
    "#The ascii() function will replace any non-ascii characters with escape characters:\n",
    "x = ascii(\"My name is Ståle\")\n",
    "print(x)"
   ]
  },
  {
   "cell_type": "code",
   "execution_count": null,
   "id": "818b2934",
   "metadata": {},
   "outputs": [],
   "source": []
  }
 ],
 "metadata": {
  "kernelspec": {
   "display_name": "Python 3",
   "language": "python",
   "name": "python3"
  },
  "language_info": {
   "codemirror_mode": {
    "name": "ipython",
    "version": 3
   },
   "file_extension": ".py",
   "mimetype": "text/x-python",
   "name": "python",
   "nbconvert_exporter": "python",
   "pygments_lexer": "ipython3",
   "version": "3.8.8"
  }
 },
 "nbformat": 4,
 "nbformat_minor": 5
}
