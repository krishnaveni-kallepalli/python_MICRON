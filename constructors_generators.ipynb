{
 "cells": [
  {
   "cell_type": "code",
   "execution_count": 1,
   "id": "ebb8698b",
   "metadata": {},
   "outputs": [
    {
     "name": "stdout",
     "output_type": "stream",
     "text": [
      "hello\n"
     ]
    }
   ],
   "source": [
    "#CONSTRUCTORS\n",
    "#Default\n",
    "class Example:\n",
    "    def __init__(self):\n",
    "        self.a=\"hello\"\n",
    "    def disp(self):\n",
    "        print(self.a)\n",
    "obj=Example()\n",
    "obj.disp()\n"
   ]
  },
  {
   "cell_type": "code",
   "execution_count": 27,
   "id": "60d4330b",
   "metadata": {},
   "outputs": [
    {
     "name": "stdout",
     "output_type": "stream",
     "text": [
      "3\n",
      "2\n",
      "5\n",
      "1\n",
      "1.5\n",
      "6\n",
      "cat\n"
     ]
    }
   ],
   "source": [
    "#Paramterized\n",
    "class Example:\n",
    "    def __init__(self,a,b):\n",
    "        self.a=a\n",
    "        self.b=b\n",
    "    def disp(self):\n",
    "        print(self.a)\n",
    "        print(self.b)\n",
    "    def calc(self):\n",
    "        print(self.a + self.b)\n",
    "        print(self.a - self.b)\n",
    "        print(self.a / self.b)\n",
    "        print(self.a * self.b)\n",
    "    def cat(self):\n",
    "        print(\"cat\")\n",
    "        \n",
    "obj=Example(3,2)\n",
    "obj.disp()\n",
    "obj.calc()\n",
    "obj.cat()"
   ]
  },
  {
   "cell_type": "code",
   "execution_count": 35,
   "id": "629f2dd0",
   "metadata": {},
   "outputs": [
    {
     "name": "stdout",
     "output_type": "stream",
     "text": [
      "5\n",
      "2\n",
      "4\n"
     ]
    }
   ],
   "source": [
    "#GENERATORS\n",
    "def fun():\n",
    "    x,y=2,3\n",
    "    x=x+y\n",
    "    yield x\n",
    "    x=x-y\n",
    "    yield x\n",
    "    x=x*x\n",
    "    yield x\n",
    "for i in fun():\n",
    "    print(i)"
   ]
  },
  {
   "cell_type": "code",
   "execution_count": 63,
   "id": "ba89cf33",
   "metadata": {},
   "outputs": [
    {
     "name": "stdout",
     "output_type": "stream",
     "text": [
      "HELLO EVERYONE\n",
      "hello everyone\n"
     ]
    }
   ],
   "source": [
    "#DECORATORS\n",
    "def fun1(str):\n",
    "    str = str.upper()\n",
    "    print(str)\n",
    "\n",
    "def fun2(str):\n",
    "    str = str.lower()\n",
    "    print(str)\n",
    "\n",
    "def fun(func):\n",
    "    str=func(\"Hello EVEryone\")\n",
    "\n",
    "fun(fun1)\n",
    "fun(fun2)"
   ]
  },
  {
   "cell_type": "code",
   "execution_count": 5,
   "id": "1c05256e",
   "metadata": {},
   "outputs": [
    {
     "ename": "AttributeError",
     "evalue": "'Ex' object has no attribute 'fun1'",
     "output_type": "error",
     "traceback": [
      "\u001b[1;31m---------------------------------------------------------------------------\u001b[0m",
      "\u001b[1;31mAttributeError\u001b[0m                            Traceback (most recent call last)",
      "\u001b[1;32m<ipython-input-5-b5ad9473a538>\u001b[0m in \u001b[0;36m<module>\u001b[1;34m\u001b[0m\n\u001b[0;32m     10\u001b[0m \u001b[1;33m\u001b[0m\u001b[0m\n\u001b[0;32m     11\u001b[0m \u001b[0mobj\u001b[0m \u001b[1;33m=\u001b[0m \u001b[0mEx\u001b[0m\u001b[1;33m(\u001b[0m\u001b[0mstr\u001b[0m\u001b[1;33m)\u001b[0m\u001b[1;33m\u001b[0m\u001b[1;33m\u001b[0m\u001b[0m\n\u001b[1;32m---> 12\u001b[1;33m \u001b[0mobj\u001b[0m\u001b[1;33m.\u001b[0m\u001b[0mfun1\u001b[0m\u001b[1;33m(\u001b[0m\u001b[1;33m)\u001b[0m\u001b[1;33m\u001b[0m\u001b[1;33m\u001b[0m\u001b[0m\n\u001b[0m\u001b[0;32m     13\u001b[0m \u001b[0mobj\u001b[0m\u001b[1;33m.\u001b[0m\u001b[0mfun2\u001b[0m\u001b[1;33m(\u001b[0m\u001b[1;33m)\u001b[0m\u001b[1;33m\u001b[0m\u001b[1;33m\u001b[0m\u001b[0m\n",
      "\u001b[1;31mAttributeError\u001b[0m: 'Ex' object has no attribute 'fun1'"
     ]
    }
   ],
   "source": [
    "class Ex:\n",
    "    def __init__(self,str):\n",
    "        str=\"HeLLoEveryoNe\"\n",
    "def fun1(str):\n",
    "    str = str.upper()\n",
    "    print(str)\n",
    "def fun2(str):\n",
    "    str = str.lower()\n",
    "    print(str)\n",
    "        \n",
    "obj = Ex(str)\n",
    "obj.fun1()\n",
    "obj.fun2()"
   ]
  },
  {
   "cell_type": "code",
   "execution_count": null,
   "id": "db9409ef",
   "metadata": {},
   "outputs": [],
   "source": [
    "class Example :\n",
    "    def __init__(self):\n",
    "        self.a=a\n",
    "        slef.b=b\n",
    "    def "
   ]
  },
  {
   "cell_type": "code",
   "execution_count": null,
   "id": "7c760263",
   "metadata": {},
   "outputs": [],
   "source": []
  }
 ],
 "metadata": {
  "kernelspec": {
   "display_name": "Python 3",
   "language": "python",
   "name": "python3"
  },
  "language_info": {
   "codemirror_mode": {
    "name": "ipython",
    "version": 3
   },
   "file_extension": ".py",
   "mimetype": "text/x-python",
   "name": "python",
   "nbconvert_exporter": "python",
   "pygments_lexer": "ipython3",
   "version": "3.8.8"
  }
 },
 "nbformat": 4,
 "nbformat_minor": 5
}
