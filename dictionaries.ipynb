{
 "cells": [
  {
   "cell_type": "code",
   "execution_count": 10,
   "id": "07f949ba",
   "metadata": {},
   "outputs": [
    {
     "name": "stdout",
     "output_type": "stream",
     "text": [
      "{'name': 'krish', 'age': 22, 'country': 'India'}\n",
      "{'name': 'krish', 'age': 22, 'country': 'India'}\n"
     ]
    }
   ],
   "source": [
    "d={'name': 'krish', 'age': 22, 'country': 'India'}\n",
    "print(d)\n",
    "d = dict(name = \"krish\", age = 22, country = \"India\")\n",
    "print(d)"
   ]
  },
  {
   "cell_type": "code",
   "execution_count": 8,
   "id": "ddfaf0c5",
   "metadata": {},
   "outputs": [
    {
     "name": "stdout",
     "output_type": "stream",
     "text": [
      "22\n"
     ]
    }
   ],
   "source": [
    "x=d[\"age\"]\n",
    "print(x)"
   ]
  },
  {
   "cell_type": "code",
   "execution_count": 13,
   "id": "ef12a13a",
   "metadata": {},
   "outputs": [
    {
     "name": "stdout",
     "output_type": "stream",
     "text": [
      "dict_keys(['name', 'age', 'country'])\n",
      "dict_values(['krish', 22, 'India'])\n"
     ]
    }
   ],
   "source": [
    "x=d.keys()\n",
    "print(x)\n",
    "x=d.values()\n",
    "print(x)"
   ]
  },
  {
   "cell_type": "code",
   "execution_count": 14,
   "id": "7e62eb76",
   "metadata": {},
   "outputs": [
    {
     "name": "stdout",
     "output_type": "stream",
     "text": [
      "{'name': 'krish', 'age': 24, 'country': 'India'}\n"
     ]
    }
   ],
   "source": [
    "d[\"age\"]=24\n",
    "print(d)"
   ]
  },
  {
   "cell_type": "code",
   "execution_count": 15,
   "id": "199521ee",
   "metadata": {},
   "outputs": [
    {
     "name": "stdout",
     "output_type": "stream",
     "text": [
      "dict_items([('name', 'krish'), ('age', 24), ('country', 'India')])\n"
     ]
    }
   ],
   "source": [
    "x=d.items()\n",
    "print(x)"
   ]
  },
  {
   "cell_type": "code",
   "execution_count": 22,
   "id": "03de5b64",
   "metadata": {},
   "outputs": [
    {
     "name": "stdout",
     "output_type": "stream",
     "text": [
      "{'name': 'krish', 'age': 20, 'country': 'India'}\n"
     ]
    }
   ],
   "source": [
    "x=d.update({\"age\": 20})\n",
    "print(d)"
   ]
  },
  {
   "cell_type": "code",
   "execution_count": 26,
   "id": "ef93dbbc",
   "metadata": {},
   "outputs": [
    {
     "name": "stdout",
     "output_type": "stream",
     "text": [
      "{'name': 'krish'}\n"
     ]
    }
   ],
   "source": [
    "d.popitem()\n",
    "print(d)"
   ]
  },
  {
   "cell_type": "code",
   "execution_count": 27,
   "id": "69c0a69d",
   "metadata": {},
   "outputs": [],
   "source": [
    "d={'name': 'krish', 'age': 22, 'country': 'India'}\n",
    "del d\n"
   ]
  },
  {
   "cell_type": "code",
   "execution_count": 28,
   "id": "bb839dbb",
   "metadata": {},
   "outputs": [
    {
     "ename": "NameError",
     "evalue": "name 'd' is not defined",
     "output_type": "error",
     "traceback": [
      "\u001b[1;31m---------------------------------------------------------------------------\u001b[0m",
      "\u001b[1;31mNameError\u001b[0m                                 Traceback (most recent call last)",
      "\u001b[1;32m<ipython-input-28-85549cb1de5f>\u001b[0m in \u001b[0;36m<module>\u001b[1;34m\u001b[0m\n\u001b[1;32m----> 1\u001b[1;33m \u001b[0mprint\u001b[0m\u001b[1;33m(\u001b[0m\u001b[0md\u001b[0m\u001b[1;33m)\u001b[0m\u001b[1;33m\u001b[0m\u001b[1;33m\u001b[0m\u001b[0m\n\u001b[0m",
      "\u001b[1;31mNameError\u001b[0m: name 'd' is not defined"
     ]
    }
   ],
   "source": [
    "print(d)#d is deleted "
   ]
  },
  {
   "cell_type": "code",
   "execution_count": 29,
   "id": "f767b1a6",
   "metadata": {},
   "outputs": [
    {
     "name": "stdout",
     "output_type": "stream",
     "text": [
      "{}\n"
     ]
    }
   ],
   "source": [
    "d={'name': 'krish', 'age': 22, 'country': 'India'}\n",
    "d.clear()\n",
    "print(d)"
   ]
  },
  {
   "cell_type": "code",
   "execution_count": 32,
   "id": "9a2e7964",
   "metadata": {},
   "outputs": [
    {
     "name": "stdout",
     "output_type": "stream",
     "text": [
      "krish\n",
      "22\n",
      "India\n",
      "name\n",
      "age\n",
      "country\n",
      "krish\n",
      "22\n",
      "India\n"
     ]
    }
   ],
   "source": [
    "d={'name': 'krish', 'age': 22, 'country': 'India'}\n",
    "for x in d:\n",
    "  print(d[x])\n"
   ]
  },
  {
   "cell_type": "code",
   "execution_count": 33,
   "id": "93595bfe",
   "metadata": {},
   "outputs": [
    {
     "name": "stdout",
     "output_type": "stream",
     "text": [
      "name\n",
      "age\n",
      "country\n",
      "krish\n",
      "22\n",
      "India\n"
     ]
    }
   ],
   "source": [
    "for x in d.keys():\n",
    "  print(x)\n",
    "for x in d.values():\n",
    "  print(x)"
   ]
  },
  {
   "cell_type": "code",
   "execution_count": 36,
   "id": "84c26bcf",
   "metadata": {},
   "outputs": [
    {
     "name": "stdout",
     "output_type": "stream",
     "text": [
      "name : krish\n",
      "age : 22\n",
      "country : India\n"
     ]
    }
   ],
   "source": [
    "for x, y in d.items():\n",
    "  print(x, \":\", y)"
   ]
  },
  {
   "cell_type": "code",
   "execution_count": 37,
   "id": "8c2ca4df",
   "metadata": {},
   "outputs": [
    {
     "name": "stdout",
     "output_type": "stream",
     "text": [
      "{'name': 'krish', 'age': 22, 'country': 'India'}\n"
     ]
    }
   ],
   "source": [
    "new = d.copy()\n",
    "print(new)"
   ]
  },
  {
   "cell_type": "code",
   "execution_count": 38,
   "id": "0aa90841",
   "metadata": {},
   "outputs": [
    {
     "name": "stdout",
     "output_type": "stream",
     "text": [
      "{'name': 'krish', 'age': 22, 'country': 'India'}\n"
     ]
    }
   ],
   "source": [
    "new = dict(d)\n",
    "print(new)"
   ]
  },
  {
   "cell_type": "code",
   "execution_count": null,
   "id": "2876f548",
   "metadata": {},
   "outputs": [],
   "source": []
  }
 ],
 "metadata": {
  "kernelspec": {
   "display_name": "Python 3",
   "language": "python",
   "name": "python3"
  },
  "language_info": {
   "codemirror_mode": {
    "name": "ipython",
    "version": 3
   },
   "file_extension": ".py",
   "mimetype": "text/x-python",
   "name": "python",
   "nbconvert_exporter": "python",
   "pygments_lexer": "ipython3",
   "version": "3.8.8"
  }
 },
 "nbformat": 4,
 "nbformat_minor": 5
}
