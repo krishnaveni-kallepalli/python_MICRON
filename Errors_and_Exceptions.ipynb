{
 "cells": [
  {
   "cell_type": "code",
   "execution_count": 1,
   "id": "f2b5f5ac",
   "metadata": {},
   "outputs": [
    {
     "ename": "ZeroDivisionError",
     "evalue": "division by zero",
     "output_type": "error",
     "traceback": [
      "\u001b[1;31m---------------------------------------------------------------------------\u001b[0m",
      "\u001b[1;31mZeroDivisionError\u001b[0m                         Traceback (most recent call last)",
      "\u001b[1;32m<ipython-input-1-742b40bded22>\u001b[0m in \u001b[0;36m<module>\u001b[1;34m\u001b[0m\n\u001b[1;32m----> 1\u001b[1;33m \u001b[1;36m10\u001b[0m\u001b[1;33m*\u001b[0m\u001b[1;36m1\u001b[0m\u001b[1;33m/\u001b[0m\u001b[1;36m0\u001b[0m\u001b[1;33m\u001b[0m\u001b[1;33m\u001b[0m\u001b[0m\n\u001b[0m",
      "\u001b[1;31mZeroDivisionError\u001b[0m: division by zero"
     ]
    }
   ],
   "source": [
    "10*1/0"
   ]
  },
  {
   "cell_type": "code",
   "execution_count": 2,
   "id": "dbfacec1",
   "metadata": {},
   "outputs": [
    {
     "ename": "TypeError",
     "evalue": "unsupported operand type(s) for +: 'int' and 'str'",
     "output_type": "error",
     "traceback": [
      "\u001b[1;31m---------------------------------------------------------------------------\u001b[0m",
      "\u001b[1;31mTypeError\u001b[0m                                 Traceback (most recent call last)",
      "\u001b[1;32m<ipython-input-2-0c79f32e273b>\u001b[0m in \u001b[0;36m<module>\u001b[1;34m\u001b[0m\n\u001b[0;32m      1\u001b[0m \u001b[0mi\u001b[0m\u001b[1;33m=\u001b[0m\u001b[1;36m20\u001b[0m\u001b[1;33m\u001b[0m\u001b[1;33m\u001b[0m\u001b[0m\n\u001b[0;32m      2\u001b[0m \u001b[0mstr\u001b[0m \u001b[1;33m=\u001b[0m \u001b[1;34m\"23\"\u001b[0m\u001b[1;33m\u001b[0m\u001b[1;33m\u001b[0m\u001b[0m\n\u001b[1;32m----> 3\u001b[1;33m \u001b[0mprint\u001b[0m\u001b[1;33m(\u001b[0m\u001b[0mi\u001b[0m\u001b[1;33m+\u001b[0m\u001b[0mstr\u001b[0m\u001b[1;33m)\u001b[0m\u001b[1;33m\u001b[0m\u001b[1;33m\u001b[0m\u001b[0m\n\u001b[0m",
      "\u001b[1;31mTypeError\u001b[0m: unsupported operand type(s) for +: 'int' and 'str'"
     ]
    }
   ],
   "source": [
    "i=20\n",
    "str = \"23\"\n",
    "print(i+str)"
   ]
  },
  {
   "cell_type": "code",
   "execution_count": 3,
   "id": "abafd7cf",
   "metadata": {},
   "outputs": [
    {
     "name": "stdout",
     "output_type": "stream",
     "text": [
      "Enter value:0\n"
     ]
    },
    {
     "ename": "ZeroDivisionError",
     "evalue": "division by zero",
     "output_type": "error",
     "traceback": [
      "\u001b[1;31m---------------------------------------------------------------------------\u001b[0m",
      "\u001b[1;31mZeroDivisionError\u001b[0m                         Traceback (most recent call last)",
      "\u001b[1;32m<ipython-input-3-aaa489af0932>\u001b[0m in \u001b[0;36m<module>\u001b[1;34m\u001b[0m\n\u001b[0;32m      1\u001b[0m \u001b[0mi\u001b[0m\u001b[1;33m=\u001b[0m\u001b[0minput\u001b[0m\u001b[1;33m(\u001b[0m\u001b[1;34m\"Enter value:\"\u001b[0m\u001b[1;33m)\u001b[0m\u001b[1;33m\u001b[0m\u001b[1;33m\u001b[0m\u001b[0m\n\u001b[1;32m----> 2\u001b[1;33m \u001b[0mx\u001b[0m\u001b[1;33m=\u001b[0m\u001b[1;36m100\u001b[0m\u001b[1;33m/\u001b[0m\u001b[0mint\u001b[0m\u001b[1;33m(\u001b[0m\u001b[0mi\u001b[0m\u001b[1;33m)\u001b[0m\u001b[1;33m\u001b[0m\u001b[1;33m\u001b[0m\u001b[0m\n\u001b[0m\u001b[0;32m      3\u001b[0m \u001b[0mprint\u001b[0m\u001b[1;33m(\u001b[0m\u001b[0mx\u001b[0m\u001b[1;33m)\u001b[0m\u001b[1;33m\u001b[0m\u001b[1;33m\u001b[0m\u001b[0m\n",
      "\u001b[1;31mZeroDivisionError\u001b[0m: division by zero"
     ]
    }
   ],
   "source": [
    "i=input(\"Enter value:\")\n",
    "x=100/int(i)\n",
    "print(x)"
   ]
  },
  {
   "cell_type": "code",
   "execution_count": 4,
   "id": "415e91a4",
   "metadata": {},
   "outputs": [
    {
     "name": "stdout",
     "output_type": "stream",
     "text": [
      "Enter value:k\n"
     ]
    },
    {
     "ename": "ValueError",
     "evalue": "invalid literal for int() with base 10: 'k'",
     "output_type": "error",
     "traceback": [
      "\u001b[1;31m---------------------------------------------------------------------------\u001b[0m",
      "\u001b[1;31mValueError\u001b[0m                                Traceback (most recent call last)",
      "\u001b[1;32m<ipython-input-4-aaa489af0932>\u001b[0m in \u001b[0;36m<module>\u001b[1;34m\u001b[0m\n\u001b[0;32m      1\u001b[0m \u001b[0mi\u001b[0m\u001b[1;33m=\u001b[0m\u001b[0minput\u001b[0m\u001b[1;33m(\u001b[0m\u001b[1;34m\"Enter value:\"\u001b[0m\u001b[1;33m)\u001b[0m\u001b[1;33m\u001b[0m\u001b[1;33m\u001b[0m\u001b[0m\n\u001b[1;32m----> 2\u001b[1;33m \u001b[0mx\u001b[0m\u001b[1;33m=\u001b[0m\u001b[1;36m100\u001b[0m\u001b[1;33m/\u001b[0m\u001b[0mint\u001b[0m\u001b[1;33m(\u001b[0m\u001b[0mi\u001b[0m\u001b[1;33m)\u001b[0m\u001b[1;33m\u001b[0m\u001b[1;33m\u001b[0m\u001b[0m\n\u001b[0m\u001b[0;32m      3\u001b[0m \u001b[0mprint\u001b[0m\u001b[1;33m(\u001b[0m\u001b[0mx\u001b[0m\u001b[1;33m)\u001b[0m\u001b[1;33m\u001b[0m\u001b[1;33m\u001b[0m\u001b[0m\n",
      "\u001b[1;31mValueError\u001b[0m: invalid literal for int() with base 10: 'k'"
     ]
    }
   ],
   "source": [
    "i=input(\"Enter value:\")\n",
    "x=100/int(i)\n",
    "print(x)"
   ]
  },
  {
   "cell_type": "code",
   "execution_count": 1,
   "id": "ecdd3788",
   "metadata": {},
   "outputs": [
    {
     "ename": "AttributeError",
     "evalue": "'int' object has no attribute 'append'",
     "output_type": "error",
     "traceback": [
      "\u001b[1;31m---------------------------------------------------------------------------\u001b[0m",
      "\u001b[1;31mAttributeError\u001b[0m                            Traceback (most recent call last)",
      "\u001b[1;32m<ipython-input-1-c3c1dfb46da4>\u001b[0m in \u001b[0;36m<module>\u001b[1;34m\u001b[0m\n\u001b[0;32m      1\u001b[0m \u001b[0mx\u001b[0m\u001b[1;33m=\u001b[0m\u001b[1;36m10\u001b[0m\u001b[1;33m\u001b[0m\u001b[1;33m\u001b[0m\u001b[0m\n\u001b[1;32m----> 2\u001b[1;33m \u001b[0mx\u001b[0m\u001b[1;33m.\u001b[0m\u001b[0mappend\u001b[0m\u001b[1;33m(\u001b[0m\u001b[1;36m7\u001b[0m\u001b[1;33m)\u001b[0m\u001b[1;33m\u001b[0m\u001b[1;33m\u001b[0m\u001b[0m\n\u001b[0m",
      "\u001b[1;31mAttributeError\u001b[0m: 'int' object has no attribute 'append'"
     ]
    }
   ],
   "source": [
    "x=10\n",
    "x.append(7)"
   ]
  },
  {
   "cell_type": "code",
   "execution_count": null,
   "id": "e9e994d7",
   "metadata": {},
   "outputs": [],
   "source": [
    "#ZeroDivisionError,ValueError,NameError,TypeError is a subclass of Exception"
   ]
  },
  {
   "cell_type": "code",
   "execution_count": null,
   "id": "d524de83",
   "metadata": {},
   "outputs": [],
   "source": [
    "issubclass(ZeroDivisionError,Exception)"
   ]
  },
  {
   "cell_type": "code",
   "execution_count": null,
   "id": "968e0e6f",
   "metadata": {},
   "outputs": [],
   "source": [
    "issubclass(ValueError,Exception)"
   ]
  },
  {
   "cell_type": "code",
   "execution_count": null,
   "id": "8fea013b",
   "metadata": {},
   "outputs": [],
   "source": [
    "issubclass(NameError,Exception)"
   ]
  },
  {
   "cell_type": "code",
   "execution_count": null,
   "id": "f3dc7f6b",
   "metadata": {},
   "outputs": [],
   "source": [
    "issubclass(TypeError,Exception)"
   ]
  },
  {
   "cell_type": "code",
   "execution_count": 5,
   "id": "ae0a7e72",
   "metadata": {},
   "outputs": [
    {
     "name": "stdout",
     "output_type": "stream",
     "text": [
      "Enter value:l\n",
      "ValueError : Invalid input \n",
      "ErrorType : <class 'ValueError'>\n"
     ]
    }
   ],
   "source": [
    "try:\n",
    "    i=input(\"Enter value:\")\n",
    "    x=100/int(i)\n",
    "    print(x)\n",
    "except ValueError as ve:\n",
    "    print(\"ValueError : Invalid input\",\"\\nErrorType :\",type(ve))\n",
    "except ZeroDivisionError as zde:\n",
    "    print(\"ZeroDivisionError : Invalid input\",\"\\nErrorType :\",type(zde))"
   ]
  },
  {
   "cell_type": "code",
   "execution_count": 6,
   "id": "8c75a159",
   "metadata": {},
   "outputs": [
    {
     "name": "stdout",
     "output_type": "stream",
     "text": [
      "Enter value:kjli]\n",
      "Oops...!  \n"
     ]
    }
   ],
   "source": [
    "try:\n",
    "    i=input(\"Enter value:\")\n",
    "    x=100/i   #removing typecast\n",
    "    print(x)\n",
    "except ValueError as ve:\n",
    "    print(\"ValueError : Invalid input\",\"\\nErrorType :\",type(ve))\n",
    "except ZeroDivisionError as zde:\n",
    "    print(\"ZeroDivisionError : Invalid input\",\"\\nErrorType :\",type(zde))\n",
    "except:\n",
    "    print(\"Oops...!  \") #error other than ValueError & ZeroDivisionError"
   ]
  },
  {
   "cell_type": "code",
   "execution_count": 7,
   "id": "67d15955",
   "metadata": {},
   "outputs": [
    {
     "name": "stdout",
     "output_type": "stream",
     "text": [
      "Enter value:99\n",
      "1.0101010101010102\n",
      "Executed Successfully\n"
     ]
    }
   ],
   "source": [
    "try:\n",
    "    i=input(\"Enter value:\")\n",
    "    x=100/int(i)\n",
    "    print(x)\n",
    "except ValueError as ve:\n",
    "    print(\"ValueError : Invalid input\",\"\\nErrorType :\",type(ve))\n",
    "except ZeroDivisionError as zde:\n",
    "    print(\"ZeroDivisionError : Invalid input\",\"\\nErrorType :\",type(zde))\n",
    "else:\n",
    "    print(\"Executed Successfully\")"
   ]
  },
  {
   "cell_type": "code",
   "execution_count": null,
   "id": "4cb2ace8",
   "metadata": {},
   "outputs": [],
   "source": [
    "#raise an exception"
   ]
  },
  {
   "cell_type": "code",
   "execution_count": 8,
   "id": "7a2394dd",
   "metadata": {},
   "outputs": [
    {
     "name": "stdout",
     "output_type": "stream",
     "text": [
      "Raised Exceptions: ('apple', 'banana', 'carrot')\n",
      "Exception Type: <class 'Exception'>\n",
      "Arguments: ('apple', 'banana', 'carrot')\n"
     ]
    }
   ],
   "source": [
    "try:\n",
    "    raise Exception(\"apple\",\"banana\",\"carrot\")\n",
    "except Exception as exe:\n",
    "    print(\"Raised Exceptions:\",exe)\n",
    "    print(\"Exception Type:\",type(exe))\n",
    "    print(\"Arguments:\",exe.args)\n",
    "    "
   ]
  },
  {
   "cell_type": "code",
   "execution_count": 9,
   "id": "6dfec856",
   "metadata": {},
   "outputs": [
    {
     "name": "stdout",
     "output_type": "stream",
     "text": [
      "Raised Exceptions: ['apple', 'banana', 'carrot']\n",
      "Exception Type: <class 'Exception'>\n",
      "Arguments: (['apple', 'banana', 'carrot'],)\n"
     ]
    }
   ],
   "source": [
    "Fruits=[\"apple\",\"banana\",\"carrot\"]\n",
    "try:\n",
    "    raise Exception(Fruits)\n",
    "except Exception as exe:\n",
    "    print(\"Raised Exceptions:\",exe)\n",
    "    print(\"Exception Type:\",type(exe))\n",
    "    print(\"Arguments:\",exe.args)\n",
    "else:\n",
    "    print(\"Exception Raise unsuccessfull...!\")"
   ]
  },
  {
   "cell_type": "code",
   "execution_count": 10,
   "id": "dc1a6725",
   "metadata": {},
   "outputs": [
    {
     "name": "stdout",
     "output_type": "stream",
     "text": [
      "Raised Exceptions: ['apple', 'banana', 'carrot']\n",
      "Exception Type: <class 'Exception'>\n",
      "Arguments: (['apple', 'banana', 'carrot'],)\n"
     ]
    },
    {
     "ename": "ValueError",
     "evalue": "not enough values to unpack (expected 3, got 1)",
     "output_type": "error",
     "traceback": [
      "\u001b[1;31m---------------------------------------------------------------------------\u001b[0m",
      "\u001b[1;31mException\u001b[0m                                 Traceback (most recent call last)",
      "\u001b[1;32m<ipython-input-10-462573eb1c26>\u001b[0m in \u001b[0;36m<module>\u001b[1;34m\u001b[0m\n\u001b[0;32m      2\u001b[0m \u001b[1;32mtry\u001b[0m\u001b[1;33m:\u001b[0m\u001b[1;33m\u001b[0m\u001b[1;33m\u001b[0m\u001b[0m\n\u001b[1;32m----> 3\u001b[1;33m     \u001b[1;32mraise\u001b[0m \u001b[0mException\u001b[0m\u001b[1;33m(\u001b[0m\u001b[0mFruits\u001b[0m\u001b[1;33m)\u001b[0m\u001b[1;33m\u001b[0m\u001b[1;33m\u001b[0m\u001b[0m\n\u001b[0m\u001b[0;32m      4\u001b[0m \u001b[1;32mexcept\u001b[0m \u001b[0mException\u001b[0m \u001b[1;32mas\u001b[0m \u001b[0mexe\u001b[0m\u001b[1;33m:\u001b[0m\u001b[1;33m\u001b[0m\u001b[1;33m\u001b[0m\u001b[0m\n",
      "\u001b[1;31mException\u001b[0m: ['apple', 'banana', 'carrot']",
      "\nDuring handling of the above exception, another exception occurred:\n",
      "\u001b[1;31mValueError\u001b[0m                                Traceback (most recent call last)",
      "\u001b[1;32m<ipython-input-10-462573eb1c26>\u001b[0m in \u001b[0;36m<module>\u001b[1;34m\u001b[0m\n\u001b[0;32m      6\u001b[0m     \u001b[0mprint\u001b[0m\u001b[1;33m(\u001b[0m\u001b[1;34m\"Exception Type:\"\u001b[0m\u001b[1;33m,\u001b[0m\u001b[0mtype\u001b[0m\u001b[1;33m(\u001b[0m\u001b[0mexe\u001b[0m\u001b[1;33m)\u001b[0m\u001b[1;33m)\u001b[0m\u001b[1;33m\u001b[0m\u001b[1;33m\u001b[0m\u001b[0m\n\u001b[0;32m      7\u001b[0m     \u001b[0mprint\u001b[0m\u001b[1;33m(\u001b[0m\u001b[1;34m\"Arguments:\"\u001b[0m\u001b[1;33m,\u001b[0m\u001b[0mexe\u001b[0m\u001b[1;33m.\u001b[0m\u001b[0margs\u001b[0m\u001b[1;33m)\u001b[0m\u001b[1;33m\u001b[0m\u001b[1;33m\u001b[0m\u001b[0m\n\u001b[1;32m----> 8\u001b[1;33m     \u001b[0me1\u001b[0m\u001b[1;33m,\u001b[0m\u001b[0me2\u001b[0m\u001b[1;33m,\u001b[0m\u001b[0me3\u001b[0m\u001b[1;33m=\u001b[0m\u001b[0mexe\u001b[0m\u001b[1;33m.\u001b[0m\u001b[0margs\u001b[0m\u001b[1;33m\u001b[0m\u001b[1;33m\u001b[0m\u001b[0m\n\u001b[0m\u001b[0;32m      9\u001b[0m     \u001b[0mprint\u001b[0m\u001b[1;33m(\u001b[0m\u001b[0me1\u001b[0m\u001b[1;33m,\u001b[0m\u001b[0me2\u001b[0m\u001b[1;33m,\u001b[0m\u001b[0me3\u001b[0m\u001b[1;33m)\u001b[0m\u001b[1;33m\u001b[0m\u001b[1;33m\u001b[0m\u001b[0m\n",
      "\u001b[1;31mValueError\u001b[0m: not enough values to unpack (expected 3, got 1)"
     ]
    }
   ],
   "source": [
    "Fruits=[\"apple\",\"banana\",\"carrot\"]\n",
    "try:\n",
    "    raise Exception(Fruits)\n",
    "except Exception as exe:\n",
    "    print(\"Raised Exceptions:\",exe)\n",
    "    print(\"Exception Type:\",type(exe))\n",
    "    print(\"Arguments:\",exe.args)\n",
    "    e1,e2,e3=exe.args\n",
    "    print(e1,e2,e3)"
   ]
  },
  {
   "cell_type": "code",
   "execution_count": 11,
   "id": "50806d0e",
   "metadata": {},
   "outputs": [
    {
     "name": "stdout",
     "output_type": "stream",
     "text": [
      "Raised Exceptions: ('apple', 'banana', 'carrot')\n",
      "Exception Type: <class 'Exception'>\n",
      "Arguments: ('apple', 'banana', 'carrot')\n",
      "apple banana carrot\n"
     ]
    }
   ],
   "source": [
    "try:\n",
    "    raise Exception(\"apple\",\"banana\",\"carrot\")\n",
    "except Exception as exe:\n",
    "    print(\"Raised Exceptions:\",exe)\n",
    "    print(\"Exception Type:\",type(exe))\n",
    "    print(\"Arguments:\",exe.args)\n",
    "    e1,e2,e3=exe.args\n",
    "print(e1,e2,e3)"
   ]
  },
  {
   "cell_type": "code",
   "execution_count": null,
   "id": "3679520b",
   "metadata": {},
   "outputs": [
    {
     "name": "stdout",
     "output_type": "stream",
     "text": [
      "Enter value:23\n",
      "4.3478260869565215\n",
      "Always Executed and cleanup code is written here\n",
      "Wrong input : ValueError\n"
     ]
    }
   ],
   "source": [
    "try:\n",
    "    def fun():\n",
    "        i=input(\"Enter value:\")\n",
    "        x=100/int(i)\n",
    "        print(x)\n",
    "    fun()\n",
    "except ValueError as ve:\n",
    "    print(\"ValueError : Invalid input\",\"\\nErrorType :\",type(ve))\n",
    "except ZeroDivisionError as zde:\n",
    "    print(\"ZeroDivisionError : Invalid input\",\"\\nErrorType :\",type(zde))\n",
    "finally:\n",
    "    print(\"Always Executed and cleanup code is written here\")\n",
    "    if ValueError:\n",
    "        print(\"Wrong input : ValueError\")\n",
    "        fun()\n",
    "    elif ZeroDivisionError:\n",
    "        print(\"Wrong input : ZeroDivisionError\")\n",
    "        fun()\n",
    "    else:\n",
    "        print(\"Nothing\")"
   ]
  },
  {
   "cell_type": "code",
   "execution_count": 1,
   "id": "e4baa13d",
   "metadata": {},
   "outputs": [
    {
     "name": "stdout",
     "output_type": "stream",
     "text": [
      "Enter value:23\n",
      "4.3478260869565215\n",
      "Always Executed and cleanup code is written here\n"
     ]
    }
   ],
   "source": [
    "def fun():\n",
    "    try:\n",
    "        i=input(\"Enter value:\")\n",
    "        x=100/int(i)\n",
    "        print(x)\n",
    "    except ValueError as ve:\n",
    "        print(\"ValueError : Invalid input\",\"\\nErrorType :\",type(ve))\n",
    "    except ZeroDivisionError as zde:\n",
    "        print(\"ZeroDivisionError : Invalid input\",\"\\nErrorType :\",type(zde))\n",
    "    finally:\n",
    "        print(\"Always Executed and cleanup code is written here\")\n",
    "        #fun()\n",
    "fun()\n",
    "\n",
    "\n"
   ]
  },
  {
   "cell_type": "code",
   "execution_count": 3,
   "id": "4d7cab4d",
   "metadata": {},
   "outputs": [
    {
     "name": "stdout",
     "output_type": "stream",
     "text": [
      "Enter value:0\n",
      "ZeroDivisionError : Invalid input \n",
      "ErrorType : <class 'ZeroDivisionError'>\n",
      "Always Executed and cleanup code is written here\n",
      "Enter value:23\n",
      "4.3478260869565215\n"
     ]
    }
   ],
   "source": [
    "\n",
    "try:\n",
    "    def fun():\n",
    "        i=input(\"Enter value:\")\n",
    "        x=100/int(i)\n",
    "        print(x)\n",
    "    fun()\n",
    "except ValueError as ve:\n",
    "    print(\"ValueError : Invalid input\",\"\\nErrorType :\",type(ve))\n",
    "except ZeroDivisionError as zde:\n",
    "    print(\"ZeroDivisionError : Invalid input\",\"\\nErrorType :\",type(zde))\n",
    "finally:\n",
    "    print(\"Always Executed and cleanup code is written here\")\n",
    "    fun()"
   ]
  },
  {
   "cell_type": "code",
   "execution_count": 15,
   "id": "fec43858",
   "metadata": {},
   "outputs": [
    {
     "name": "stdout",
     "output_type": "stream",
     "text": [
      "Enter value:23\n",
      "4.3478260869565215\n",
      "Success\n",
      "Enter value:233\n",
      "0.4291845493562232\n"
     ]
    }
   ],
   "source": [
    "try:\n",
    "    def fun():\n",
    "        i=input(\"Enter value:\")\n",
    "        x=100/int(i)\n",
    "        print(x)\n",
    "    fun()\n",
    "except:\n",
    "    print(\"Exception\")\n",
    "else:\n",
    "    print(\"Success\")\n",
    "finally:\n",
    "    fun()"
   ]
  },
  {
   "cell_type": "code",
   "execution_count": null,
   "id": "04f30e7a",
   "metadata": {},
   "outputs": [],
   "source": []
  }
 ],
 "metadata": {
  "kernelspec": {
   "display_name": "Python 3",
   "language": "python",
   "name": "python3"
  },
  "language_info": {
   "codemirror_mode": {
    "name": "ipython",
    "version": 3
   },
   "file_extension": ".py",
   "mimetype": "text/x-python",
   "name": "python",
   "nbconvert_exporter": "python",
   "pygments_lexer": "ipython3",
   "version": "3.8.8"
  }
 },
 "nbformat": 4,
 "nbformat_minor": 5
}
