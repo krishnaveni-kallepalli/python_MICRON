{
 "cells": [
  {
   "cell_type": "code",
   "execution_count": 31,
   "id": "6ee4a3a7",
   "metadata": {},
   "outputs": [],
   "source": [
    "# sum of n natural nums "
   ]
  },
  {
   "cell_type": "code",
   "execution_count": 2,
   "id": "c3433b13",
   "metadata": {},
   "outputs": [
    {
     "name": "stdout",
     "output_type": "stream",
     "text": [
      "Enter range:3\n",
      "6\n"
     ]
    }
   ],
   "source": [
    "def sum_of_n(n):\n",
    "    sum = 0\n",
    "    for i in range(1,n+1):\n",
    "        sum = sum + i\n",
    "    print(sum)\n",
    "\n",
    "n = int(input(\"Enter range:\"))\n",
    "sum_of_n(n)"
   ]
  },
  {
   "cell_type": "code",
   "execution_count": 9,
   "id": "eac185c7",
   "metadata": {},
   "outputs": [
    {
     "name": "stdout",
     "output_type": "stream",
     "text": [
      "Enter range:3\n"
     ]
    },
    {
     "data": {
      "text/plain": [
       "6"
      ]
     },
     "execution_count": 9,
     "metadata": {},
     "output_type": "execute_result"
    }
   ],
   "source": [
    "def sum_of_n(n):\n",
    "    if n<=1:\n",
    "        return n\n",
    "    else:\n",
    "        return n + sum_of_n(n-1)\n",
    "    print(n)\n",
    "n = int(input(\"Enter range:\"))\n",
    "sum_of_n(n)\n"
   ]
  },
  {
   "cell_type": "code",
   "execution_count": null,
   "id": "0565878f",
   "metadata": {},
   "outputs": [],
   "source": [
    "# fibonacci series"
   ]
  },
  {
   "cell_type": "code",
   "execution_count": 13,
   "id": "77793cce",
   "metadata": {},
   "outputs": [
    {
     "name": "stdout",
     "output_type": "stream",
     "text": [
      "ENter range:10\n",
      "0\n",
      "1\n",
      "1\n",
      "2\n",
      "3\n",
      "5\n",
      "8\n",
      "13\n",
      "21\n",
      "34\n"
     ]
    }
   ],
   "source": [
    "def fib(n):\n",
    "    if n<=1:\n",
    "        return n \n",
    "    else:\n",
    "        return fib(n-1)+fib(n-2)\n",
    "\n",
    "n = int(input(\"ENter range:\"))\n",
    "for i in range(n):\n",
    "    print(fib(i))"
   ]
  },
  {
   "cell_type": "code",
   "execution_count": null,
   "id": "dd42e157",
   "metadata": {},
   "outputs": [],
   "source": [
    "# factorial of a number "
   ]
  },
  {
   "cell_type": "code",
   "execution_count": 20,
   "id": "384b6ef4",
   "metadata": {},
   "outputs": [
    {
     "name": "stdout",
     "output_type": "stream",
     "text": [
      "Enter n:6\n",
      "720\n"
     ]
    }
   ],
   "source": [
    "def fact(n):\n",
    "    if n<=1:\n",
    "        return n \n",
    "    else:\n",
    "        return n*fact(n-1)\n",
    "n = int(input(\"Enter n:\"))\n",
    "print(fact(n))"
   ]
  },
  {
   "cell_type": "code",
   "execution_count": 21,
   "id": "382d6352",
   "metadata": {},
   "outputs": [],
   "source": [
    "# power of a number "
   ]
  },
  {
   "cell_type": "code",
   "execution_count": 26,
   "id": "70b38a58",
   "metadata": {},
   "outputs": [
    {
     "name": "stdout",
     "output_type": "stream",
     "text": [
      "Enter base:2\n",
      "Enter exponential:3\n",
      "Result: 8\n"
     ]
    }
   ],
   "source": [
    "def power(base,exp):\n",
    "    if exp == 1:\n",
    "        return base \n",
    "    else:\n",
    "        return base *(power(base,exp-1))\n",
    "base = int(input(\"Enter base:\"))\n",
    "exp = int(input(\"Enter exponential:\"))\n",
    "print(\"Result:\",power(base,exp))"
   ]
  },
  {
   "cell_type": "code",
   "execution_count": null,
   "id": "f932e4c5",
   "metadata": {},
   "outputs": [],
   "source": [
    "# combination nCr \n",
    "\n",
    "#              n!\n",
    "# nCr =     ---------\n",
    "#           r!(n-r)!\n",
    "\n",
    "\n",
    "# 4C2 = 4!/(2!x(4-2)!) = 4!/(2!x2!) = 24/2x2 = 24/4 = 6"
   ]
  },
  {
   "cell_type": "code",
   "execution_count": 30,
   "id": "ef810846",
   "metadata": {},
   "outputs": [
    {
     "name": "stdout",
     "output_type": "stream",
     "text": [
      "Enter n:4\n",
      "Enter r:2\n",
      "6\n"
     ]
    }
   ],
   "source": [
    "def fact(num):\n",
    "    if num<=1:\n",
    "        return num \n",
    "    else:\n",
    "        return num*fact(num-1)\n",
    "    \n",
    "def combination(n,r):\n",
    "    res = fact(n)/(fact(r)*(fact(n-r)))\n",
    "    print(int(res))\n",
    "    \n",
    "n = int(input(\"Enter n:\"))\n",
    "r = int(input(\"Enter r:\"))\n",
    "combination(n,r)"
   ]
  },
  {
   "cell_type": "code",
   "execution_count": null,
   "id": "dccc25f9",
   "metadata": {},
   "outputs": [],
   "source": []
  }
 ],
 "metadata": {
  "kernelspec": {
   "display_name": "Python 3",
   "language": "python",
   "name": "python3"
  },
  "language_info": {
   "codemirror_mode": {
    "name": "ipython",
    "version": 3
   },
   "file_extension": ".py",
   "mimetype": "text/x-python",
   "name": "python",
   "nbconvert_exporter": "python",
   "pygments_lexer": "ipython3",
   "version": "3.8.8"
  }
 },
 "nbformat": 4,
 "nbformat_minor": 5
}
