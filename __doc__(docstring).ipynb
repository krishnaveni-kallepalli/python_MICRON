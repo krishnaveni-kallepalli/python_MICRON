{
 "cells": [
  {
   "cell_type": "code",
   "execution_count": 1,
   "id": "83f291d5",
   "metadata": {},
   "outputs": [],
   "source": [
    "\n",
    "# declare -->'''  xxx ''' and \"\"\" xxx \"\"\"\n",
    "# accesed --> __doc__\n",
    "'''\n",
    "single line docstr \n",
    "multiline docstr\n",
    "'''"
   ]
  },
  {
   "cell_type": "code",
   "execution_count": 13,
   "id": "b1e56ad5",
   "metadata": {},
   "outputs": [
    {
     "name": "stdout",
     "output_type": "stream",
     "text": [
      "Returns product of a and b.\n",
      "Result: 6\n"
     ]
    }
   ],
   "source": [
    "def mul(a,b):\n",
    "    '''Returns product of a and b.''' #single line doc str\n",
    "    return a*b\n",
    "print(mul.__doc__)\n",
    "print(\"Result:\",mul(2,3))"
   ]
  },
  {
   "cell_type": "code",
   "execution_count": 12,
   "id": "7af3ac43",
   "metadata": {},
   "outputs": [
    {
     "name": "stdout",
     "output_type": "stream",
     "text": [
      "Returns product of a and b.\n",
      "                                       // second line should be blank \n",
      "    product : a x b \n",
      "    a is int \n",
      "    b is int \n",
      "    \n",
      "Result: 6\n"
     ]
    }
   ],
   "source": [
    "def mul(a,b):\n",
    "    \"\"\"Returns product of a and b.\n",
    "                                       // second line should be blank \n",
    "    product : a x b \n",
    "    a is int \n",
    "    b is int \n",
    "    \"\"\" \n",
    "    #multi line doc str\n",
    "    return a*b\n",
    "print(mul.__doc__)\n",
    "print(\"Result:\",mul(2,3))"
   ]
  },
  {
   "cell_type": "code",
   "execution_count": null,
   "id": "df66764f",
   "metadata": {},
   "outputs": [],
   "source": []
  }
 ],
 "metadata": {
  "kernelspec": {
   "display_name": "Python 3",
   "language": "python",
   "name": "python3"
  },
  "language_info": {
   "codemirror_mode": {
    "name": "ipython",
    "version": 3
   },
   "file_extension": ".py",
   "mimetype": "text/x-python",
   "name": "python",
   "nbconvert_exporter": "python",
   "pygments_lexer": "ipython3",
   "version": "3.8.8"
  }
 },
 "nbformat": 4,
 "nbformat_minor": 5
}
