{
 "cells": [
  {
   "cell_type": "code",
   "execution_count": 5,
   "id": "17bb3439",
   "metadata": {},
   "outputs": [
    {
     "data": {
      "text/plain": [
       "'\\nclass Node:\\n    def __init__(self,data):\\n        self.data = data\\n        self.left = None\\n        self.right = None\\ndef insert(root,data):\\n    if root is None:\\n        return Node(data)\\n    else:\\n        if data < root.data:\\n            root.left = insert(root.left,data)\\n        else:\\n            root.right = insert(root.right,data)\\n    return root\\ndef inorder(root):\\n    if root is not None:\\n        inorder(root.left)\\n        print(root.data , end=\\' \\')\\n        inorder(root.right)\\n\\ndef preorder(root):\\n    if root is not None:\\n        print(root.data,end=\\' \\')\\n        preorder(root.left)\\n        preorder(root.right)\\n\\ndef postorder(root):\\n    if root is not None:\\n        preorder(root.left)\\n        preorder(root.right)\\n        print(root.data,end=\\' \\')\\nroot = None\\nroot = insert(root,10)\\nroot = insert(root,40)\\nroot = insert(root,50)\\nroot = insert(root,30)\\nroot = insert(root,20)\\ninorder(root)\\nprint(\"\\n\")\\npreorder(root)\\nprint(\"\\n\")\\npostorder(root)\\nprint(\"\\n\")\\n'"
      ]
     },
     "execution_count": 5,
     "metadata": {},
     "output_type": "execute_result"
    }
   ],
   "source": [
    "'''\n",
    "class Node:\n",
    "    def __init__(self,data):\n",
    "        self.data = data\n",
    "        self.left = None\n",
    "        self.right = None\n",
    "def insert(root,data):\n",
    "    if root is None:\n",
    "        return Node(data)\n",
    "    else:\n",
    "        if data < root.data:\n",
    "            root.left = insert(root.left,data)\n",
    "        else:\n",
    "            root.right = insert(root.right,data)\n",
    "    return root\n",
    "def inorder(root):\n",
    "    if root is not None:\n",
    "        inorder(root.left)\n",
    "        print(root.data , end=' ')\n",
    "        inorder(root.right)\n",
    "\n",
    "def preorder(root):\n",
    "    if root is not None:\n",
    "        print(root.data,end=' ')\n",
    "        preorder(root.left)\n",
    "        preorder(root.right)\n",
    "\n",
    "def postorder(root):\n",
    "    if root is not None:\n",
    "        preorder(root.left)\n",
    "        preorder(root.right)\n",
    "        print(root.data,end=' ')\n",
    "root = None\n",
    "root = insert(root,10)\n",
    "root = insert(root,40)\n",
    "root = insert(root,50)\n",
    "root = insert(root,30)\n",
    "root = insert(root,20)\n",
    "inorder(root)\n",
    "print(\"\\n\")\n",
    "preorder(root)\n",
    "print(\"\\n\")\n",
    "postorder(root)\n",
    "print(\"\\n\")\n",
    "'''"
   ]
  },
  {
   "cell_type": "code",
   "execution_count": 2,
   "id": "9ce6a464",
   "metadata": {},
   "outputs": [
    {
     "ename": "NameError",
     "evalue": "name 'insert' is not defined",
     "output_type": "error",
     "traceback": [
      "\u001b[1;31m---------------------------------------------------------------------------\u001b[0m",
      "\u001b[1;31mNameError\u001b[0m                                 Traceback (most recent call last)",
      "\u001b[1;32m<ipython-input-2-a93729cb5dfe>\u001b[0m in \u001b[0;36m<module>\u001b[1;34m\u001b[0m\n\u001b[0;32m     29\u001b[0m             \u001b[0mprint\u001b[0m\u001b[1;33m(\u001b[0m\u001b[0mroot\u001b[0m\u001b[1;33m.\u001b[0m\u001b[0mdata\u001b[0m\u001b[1;33m,\u001b[0m\u001b[0mend\u001b[0m\u001b[1;33m=\u001b[0m\u001b[1;34m' '\u001b[0m\u001b[1;33m)\u001b[0m\u001b[1;33m\u001b[0m\u001b[1;33m\u001b[0m\u001b[0m\n\u001b[0;32m     30\u001b[0m \u001b[0mroot\u001b[0m \u001b[1;33m=\u001b[0m \u001b[1;32mNone\u001b[0m\u001b[1;33m\u001b[0m\u001b[1;33m\u001b[0m\u001b[0m\n\u001b[1;32m---> 31\u001b[1;33m \u001b[0mroot\u001b[0m \u001b[1;33m=\u001b[0m \u001b[0minsert\u001b[0m\u001b[1;33m(\u001b[0m\u001b[0mroot\u001b[0m\u001b[1;33m,\u001b[0m\u001b[1;36m10\u001b[0m\u001b[1;33m)\u001b[0m\u001b[1;33m\u001b[0m\u001b[1;33m\u001b[0m\u001b[0m\n\u001b[0m\u001b[0;32m     32\u001b[0m \u001b[0mroot\u001b[0m \u001b[1;33m=\u001b[0m \u001b[0minsert\u001b[0m\u001b[1;33m(\u001b[0m\u001b[0mroot\u001b[0m\u001b[1;33m,\u001b[0m\u001b[1;36m40\u001b[0m\u001b[1;33m)\u001b[0m\u001b[1;33m\u001b[0m\u001b[1;33m\u001b[0m\u001b[0m\n\u001b[0;32m     33\u001b[0m \u001b[0mroot\u001b[0m \u001b[1;33m=\u001b[0m \u001b[0minsert\u001b[0m\u001b[1;33m(\u001b[0m\u001b[0mroot\u001b[0m\u001b[1;33m,\u001b[0m\u001b[1;36m50\u001b[0m\u001b[1;33m)\u001b[0m\u001b[1;33m\u001b[0m\u001b[1;33m\u001b[0m\u001b[0m\n",
      "\u001b[1;31mNameError\u001b[0m: name 'insert' is not defined"
     ]
    }
   ],
   "source": [
    "class Node:\n",
    "    def __init__(self,data):\n",
    "        self.data = data\n",
    "        self.left = None\n",
    "        self.right = None\n",
    "    def insert(root,data):\n",
    "        if root is None:\n",
    "            return Node(data)\n",
    "        else:\n",
    "            if data < root.data:\n",
    "                root.left = insert(root.left,data)\n",
    "            else:\n",
    "                root.right = insert(root.right,data)\n",
    "        return root\n",
    "    def inorder(root):\n",
    "        if root is not None:\n",
    "            inorder(root.left)\n",
    "            print(root.data , end=' ')\n",
    "            inorder(root.right)\n",
    "    def preorder(root):\n",
    "        if root is not None:\n",
    "            print(root.data,end=' ')\n",
    "            preorder(root.left)\n",
    "            preorder(root.right)\n",
    "    def postorder(root):\n",
    "        if root is not None:\n",
    "            preorder(root.left)\n",
    "            preorder(root.right)\n",
    "            print(root.data,end=' ')\n",
    "root = None\n",
    "root = insert(root,10)\n",
    "root = insert(root,40)\n",
    "root = insert(root,50)\n",
    "root = insert(root,30)\n",
    "root = insert(root,20)\n",
    "inorder(root)\n",
    "print(\"\\n\")\n",
    "preorder(root)\n",
    "print(\"\\n\")\n",
    "postorder(root)\n",
    "print(\"\\n\")"
   ]
  },
  {
   "cell_type": "code",
   "execution_count": 3,
   "id": "84ac24ec",
   "metadata": {},
   "outputs": [
    {
     "ename": "NameError",
     "evalue": "name 'insert' is not defined",
     "output_type": "error",
     "traceback": [
      "\u001b[1;31m---------------------------------------------------------------------------\u001b[0m",
      "\u001b[1;31mNameError\u001b[0m                                 Traceback (most recent call last)",
      "\u001b[1;32m<ipython-input-3-7bf650d9f0fd>\u001b[0m in \u001b[0;36m<module>\u001b[1;34m\u001b[0m\n\u001b[0;32m     29\u001b[0m             \u001b[0mprint\u001b[0m\u001b[1;33m(\u001b[0m\u001b[0mroot\u001b[0m\u001b[1;33m.\u001b[0m\u001b[0mdata\u001b[0m\u001b[1;33m,\u001b[0m\u001b[0mend\u001b[0m\u001b[1;33m=\u001b[0m\u001b[1;34m' '\u001b[0m\u001b[1;33m)\u001b[0m\u001b[1;33m\u001b[0m\u001b[1;33m\u001b[0m\u001b[0m\n\u001b[0;32m     30\u001b[0m \u001b[0mroot\u001b[0m \u001b[1;33m=\u001b[0m \u001b[1;32mNone\u001b[0m\u001b[1;33m\u001b[0m\u001b[1;33m\u001b[0m\u001b[0m\n\u001b[1;32m---> 31\u001b[1;33m \u001b[0mroot\u001b[0m \u001b[1;33m=\u001b[0m \u001b[0minsert\u001b[0m\u001b[1;33m(\u001b[0m\u001b[0mroot\u001b[0m\u001b[1;33m,\u001b[0m\u001b[1;36m10\u001b[0m\u001b[1;33m)\u001b[0m\u001b[1;33m\u001b[0m\u001b[1;33m\u001b[0m\u001b[0m\n\u001b[0m\u001b[0;32m     32\u001b[0m \u001b[0mroot\u001b[0m \u001b[1;33m=\u001b[0m \u001b[0minsert\u001b[0m\u001b[1;33m(\u001b[0m\u001b[0mroot\u001b[0m\u001b[1;33m,\u001b[0m\u001b[1;36m40\u001b[0m\u001b[1;33m)\u001b[0m\u001b[1;33m\u001b[0m\u001b[1;33m\u001b[0m\u001b[0m\n\u001b[0;32m     33\u001b[0m \u001b[0mroot\u001b[0m \u001b[1;33m=\u001b[0m \u001b[0minsert\u001b[0m\u001b[1;33m(\u001b[0m\u001b[0mroot\u001b[0m\u001b[1;33m,\u001b[0m\u001b[1;36m50\u001b[0m\u001b[1;33m)\u001b[0m\u001b[1;33m\u001b[0m\u001b[1;33m\u001b[0m\u001b[0m\n",
      "\u001b[1;31mNameError\u001b[0m: name 'insert' is not defined"
     ]
    }
   ],
   "source": [
    "class Node:\n",
    "    def __init__(self,data):\n",
    "        self.data = data\n",
    "        self.left = None\n",
    "        self.right = None\n",
    "    def insert(root,data):\n",
    "        if root is None:\n",
    "            return Node(data)\n",
    "        else:\n",
    "            if data < root.data:\n",
    "                root.left = insert(root.left,data)\n",
    "            else:\n",
    "                root.right = insert(root.right,data)\n",
    "        return root\n",
    "    def inorder(root):\n",
    "        if root is not None:\n",
    "            inorder(root.left)\n",
    "            print(root.data , end=' ')\n",
    "            inorder(root.right)\n",
    "    def preorder(root):\n",
    "        if root is not None:\n",
    "            print(root.data,end=' ')\n",
    "            preorder(root.left)\n",
    "            preorder(root.right)\n",
    "    def postorder(root):\n",
    "        if root is not None:\n",
    "            preorder(root.left)\n",
    "            preorder(root.right)\n",
    "            print(root.data,end=' ')\n",
    "root = None\n",
    "root = insert(root,10)\n",
    "root = insert(root,40)\n",
    "root = insert(root,50)\n",
    "root = insert(root,30)\n",
    "root = insert(root,20)\n",
    "inorder(root)\n",
    "print(\"\\n\")\n",
    "preorder(root)\n",
    "print(\"\\n\")\n",
    "postorder(root)\n",
    "print(\"\\n\")"
   ]
  },
  {
   "cell_type": "code",
   "execution_count": null,
   "id": "9748fabf",
   "metadata": {},
   "outputs": [],
   "source": []
  }
 ],
 "metadata": {
  "kernelspec": {
   "display_name": "Python 3",
   "language": "python",
   "name": "python3"
  },
  "language_info": {
   "codemirror_mode": {
    "name": "ipython",
    "version": 3
   },
   "file_extension": ".py",
   "mimetype": "text/x-python",
   "name": "python",
   "nbconvert_exporter": "python",
   "pygments_lexer": "ipython3",
   "version": "3.8.8"
  }
 },
 "nbformat": 4,
 "nbformat_minor": 5
}
