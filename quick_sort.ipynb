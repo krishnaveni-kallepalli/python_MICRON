{
 "cells": [
  {
   "cell_type": "code",
   "execution_count": 23,
   "id": "465f4c8a",
   "metadata": {},
   "outputs": [
    {
     "name": "stdout",
     "output_type": "stream",
     "text": [
      "aftersorting: [12, 32, 34, 45, 55, 98, 99]\n"
     ]
    }
   ],
   "source": [
    "l=[98,12,45,32,34,55,99]\n",
    "n=len(l)\n",
    "def quick(l,lb,ub):\n",
    "    if(lb<ub):\n",
    "        start = lb\n",
    "        end = ub\n",
    "        pivot = lb\n",
    "        while(start<end):\n",
    "            #print(lb,ub,pivot)\n",
    "            while(l[pivot]>=l[start]):\n",
    "                #print(start,end,pivot)\n",
    "                start = start+1\n",
    "            while(l[end]>l[pivot]):\n",
    "                end = end-1\n",
    "            if(start < end):\n",
    "                l[start],l[end] = l[end],l[start]\n",
    "        l[pivot],l[end] = l[end],l[pivot]\n",
    "        quick(l,lb,end-1)\n",
    "        quick(l,end+1,ub)\n",
    "    #print(l)\n",
    "quick(l,0,n-1)\n",
    "print(\"aftersorting:\",l)"
   ]
  },
  {
   "cell_type": "code",
   "execution_count": 24,
   "id": "5c6449a1",
   "metadata": {},
   "outputs": [
    {
     "name": "stdout",
     "output_type": "stream",
     "text": [
      "0 6 0\n",
      "0 6 0\n",
      "1 6 0\n",
      "2 6 0\n",
      "3 6 0\n",
      "4 6 0\n",
      "5 6 0\n",
      "6 6 0\n"
     ]
    },
    {
     "ename": "IndexError",
     "evalue": "list index out of range",
     "output_type": "error",
     "traceback": [
      "\u001b[1;31m---------------------------------------------------------------------------\u001b[0m",
      "\u001b[1;31mIndexError\u001b[0m                                Traceback (most recent call last)",
      "\u001b[1;32m<ipython-input-24-df7a388ca597>\u001b[0m in \u001b[0;36m<module>\u001b[1;34m\u001b[0m\n\u001b[0;32m     18\u001b[0m         \u001b[0mquicksort\u001b[0m\u001b[1;33m(\u001b[0m\u001b[0ml\u001b[0m\u001b[1;33m,\u001b[0m\u001b[0mlb\u001b[0m\u001b[1;33m,\u001b[0m\u001b[0mend\u001b[0m\u001b[1;33m-\u001b[0m\u001b[1;36m1\u001b[0m\u001b[1;33m)\u001b[0m\u001b[1;33m\u001b[0m\u001b[1;33m\u001b[0m\u001b[0m\n\u001b[0;32m     19\u001b[0m         \u001b[0mquicksort\u001b[0m\u001b[1;33m(\u001b[0m\u001b[0ml\u001b[0m\u001b[1;33m,\u001b[0m\u001b[0mend\u001b[0m\u001b[1;33m+\u001b[0m\u001b[1;36m1\u001b[0m\u001b[1;33m,\u001b[0m\u001b[0mub\u001b[0m\u001b[1;33m)\u001b[0m\u001b[1;33m\u001b[0m\u001b[1;33m\u001b[0m\u001b[0m\n\u001b[1;32m---> 20\u001b[1;33m \u001b[0mquicksort\u001b[0m\u001b[1;33m(\u001b[0m\u001b[0ml\u001b[0m\u001b[1;33m,\u001b[0m\u001b[1;36m0\u001b[0m\u001b[1;33m,\u001b[0m\u001b[0mn\u001b[0m\u001b[1;33m-\u001b[0m\u001b[1;36m1\u001b[0m\u001b[1;33m)\u001b[0m\u001b[1;33m\u001b[0m\u001b[1;33m\u001b[0m\u001b[0m\n\u001b[0m\u001b[0;32m     21\u001b[0m \u001b[0mprint\u001b[0m\u001b[1;33m(\u001b[0m\u001b[0ml\u001b[0m\u001b[1;33m)\u001b[0m\u001b[1;33m\u001b[0m\u001b[1;33m\u001b[0m\u001b[0m\n",
      "\u001b[1;32m<ipython-input-24-df7a388ca597>\u001b[0m in \u001b[0;36mquicksort\u001b[1;34m(l, lb, ub)\u001b[0m\n\u001b[0;32m      8\u001b[0m         \u001b[1;32mwhile\u001b[0m\u001b[1;33m(\u001b[0m\u001b[0mstart\u001b[0m \u001b[1;33m<\u001b[0m \u001b[0mend\u001b[0m\u001b[1;33m)\u001b[0m\u001b[1;33m:\u001b[0m\u001b[1;33m\u001b[0m\u001b[1;33m\u001b[0m\u001b[0m\n\u001b[0;32m      9\u001b[0m             \u001b[0mprint\u001b[0m\u001b[1;33m(\u001b[0m\u001b[0mlb\u001b[0m\u001b[1;33m,\u001b[0m\u001b[0mub\u001b[0m\u001b[1;33m,\u001b[0m\u001b[0mpivot\u001b[0m\u001b[1;33m)\u001b[0m\u001b[1;33m\u001b[0m\u001b[1;33m\u001b[0m\u001b[0m\n\u001b[1;32m---> 10\u001b[1;33m             \u001b[1;32mwhile\u001b[0m\u001b[1;33m(\u001b[0m\u001b[0ml\u001b[0m\u001b[1;33m[\u001b[0m\u001b[0mpivot\u001b[0m\u001b[1;33m]\u001b[0m \u001b[1;33m>=\u001b[0m \u001b[0ml\u001b[0m\u001b[1;33m[\u001b[0m\u001b[0mstart\u001b[0m\u001b[1;33m]\u001b[0m\u001b[1;33m)\u001b[0m\u001b[1;33m:\u001b[0m\u001b[1;33m\u001b[0m\u001b[1;33m\u001b[0m\u001b[0m\n\u001b[0m\u001b[0;32m     11\u001b[0m                 \u001b[0mprint\u001b[0m\u001b[1;33m(\u001b[0m\u001b[0mstart\u001b[0m\u001b[1;33m,\u001b[0m\u001b[0mend\u001b[0m\u001b[1;33m,\u001b[0m\u001b[0mpivot\u001b[0m\u001b[1;33m)\u001b[0m\u001b[1;33m\u001b[0m\u001b[1;33m\u001b[0m\u001b[0m\n\u001b[0;32m     12\u001b[0m                 \u001b[0mstart\u001b[0m \u001b[1;33m=\u001b[0m \u001b[0mstart\u001b[0m\u001b[1;33m+\u001b[0m\u001b[1;36m1\u001b[0m\u001b[1;33m\u001b[0m\u001b[1;33m\u001b[0m\u001b[0m\n",
      "\u001b[1;31mIndexError\u001b[0m: list index out of range"
     ]
    }
   ],
   "source": [
    "l=[10,4,2,9,8,6,7]\n",
    "n = len(l)\n",
    "def quicksort(l,lb,ub):\n",
    "    if (lb < ub):\n",
    "        start = lb\n",
    "        end = ub \n",
    "        pivot = lb\n",
    "        while(start < end):\n",
    "            print(lb,ub,pivot)\n",
    "            while(l[pivot] >= l[start]):\n",
    "                print(start,end,pivot)\n",
    "                start = start+1\n",
    "            while l[end] > l[pivot]:\n",
    "                end = end-1\n",
    "            if (start < end):\n",
    "                l[start],l[end] = l[end],l[start]\n",
    "        l[pivot],l[end] = l[end],l[pivot]\n",
    "        quicksort(l,lb,end-1)\n",
    "        quicksort(l,end+1,ub)\n",
    "quicksort(l,0,n-1)    \n",
    "print(l)"
   ]
  },
  {
   "cell_type": "code",
   "execution_count": 34,
   "id": "9298dfa1",
   "metadata": {},
   "outputs": [
    {
     "name": "stdout",
     "output_type": "stream",
     "text": [
      "aftersorting: [12, 32, 34, 45, 55, 98, 99]\n"
     ]
    }
   ],
   "source": [
    "l=[98,12,45,32,34,55,99]\n",
    "n=len(l)\n",
    "def quick(l,lb,ub):\n",
    "    if(lb<ub):\n",
    "        start,end,pivot = lb,ub,lb\n",
    "        while(start<end):\n",
    "            while(l[pivot]>=l[start]):\n",
    "                start = start+1\n",
    "            while(l[end]>l[pivot]):\n",
    "                end = end-1\n",
    "            if(start < end):\n",
    "                l[start],l[end] = l[end],l[start]\n",
    "        l[pivot],l[end] = l[end],l[pivot]\n",
    "        quick(l,lb,end-1)\n",
    "        quick(l,end+1,ub)\n",
    "quick(l,0,n-1)\n",
    "print(\"aftersorting:\",l)"
   ]
  },
  {
   "cell_type": "code",
   "execution_count": 43,
   "id": "e0a9a9ae",
   "metadata": {},
   "outputs": [
    {
     "name": "stdout",
     "output_type": "stream",
     "text": [
      "[1, 3, 4, 5, 6, 8, 9]\n",
      "[1, 3, 4, 5, 6, 8, 9]\n",
      "[1, 3, 4, 5, 6, 8, 9]\n",
      "[1, 3, 4, 5, 6, 8, 9]\n",
      "[1, 3, 4, 5, 6, 8, 9]\n",
      "[1, 3, 4, 5, 6, 8, 9]\n",
      "[1, 3, 4, 5, 6, 8, 9]\n",
      "[1, 3, 4, 5, 6, 8, 9]\n",
      "[1, 3, 4, 5, 6, 8, 9]\n",
      "[1, 3, 4, 5, 6, 8, 9]\n",
      "[1, 3, 4, 5, 6, 8, 9]\n",
      "aftersorting: [1, 3, 4, 5, 6, 8, 9]\n"
     ]
    }
   ],
   "source": [
    "l=[8,1,3,4,5,6,9]\n",
    "n=len(l)\n",
    "def quick(l,lb,ub):\n",
    "    if(lb<ub):\n",
    "        start,end,pivot = lb,ub,lb\n",
    "        while(start<end):\n",
    "            while(l[pivot]>=l[start]):\n",
    "                start = start+1\n",
    "            while(l[end]>l[pivot]):\n",
    "                end = end-1\n",
    "            if(start < end):\n",
    "                l[start],l[end] = l[end],l[start]\n",
    "        l[pivot],l[end] = l[end],l[pivot]\n",
    "        quick(l,lb,end-1)\n",
    "        quick(l,end+1,ub)\n",
    "    print(l)\n",
    "quick(l,0,n-1)\n",
    "print(\"aftersorting:\",l)"
   ]
  },
  {
   "cell_type": "code",
   "execution_count": 25,
   "id": "b3016ab9",
   "metadata": {},
   "outputs": [
    {
     "name": "stdout",
     "output_type": "stream",
     "text": [
      "aftersorting:\n",
      "4\n",
      "5\n",
      "aftersorting:\n",
      "1\n",
      "2\n",
      "aftersorting:\n",
      "1\n",
      "2\n",
      "3\n",
      "aftersorting:\n",
      "1\n",
      "2\n",
      "3\n",
      "4\n",
      "5\n"
     ]
    }
   ],
   "source": [
    "l=[5,4,3,2,1]\n",
    "def merge(l):\n",
    "    n=len(l)\n",
    "    mid = n//2\n",
    "    if n>1:\n",
    "        L=l[:mid]\n",
    "        R=l[mid:]\n",
    "        merge(L)\n",
    "        merge(R)\n",
    "        i=j=k=0\n",
    "        while(i<len(L) and j<len(R)):\n",
    "            if L[i]<=R[j]:\n",
    "                l[k] = L[i]\n",
    "                i=i+1\n",
    "            else:\n",
    "                l[k]=R[j]\n",
    "                j=j+1\n",
    "            k=k+1\n",
    "        while i < len(L):\n",
    "            l[k] = L[i]\n",
    "            i += 1\n",
    "            k += 1\n",
    "        while j < len(R):\n",
    "            l[k] = R[j]\n",
    "            j += 1\n",
    "            k += 1\n",
    "        print(\"aftersorting:\")\n",
    "        for i in range(n):\n",
    "            print(l[i])\n",
    "merge(l)"
   ]
  },
  {
   "cell_type": "code",
   "execution_count": null,
   "id": "f637877c",
   "metadata": {},
   "outputs": [],
   "source": []
  },
  {
   "cell_type": "code",
   "execution_count": null,
   "id": "5cde4e55",
   "metadata": {},
   "outputs": [],
   "source": []
  }
 ],
 "metadata": {
  "kernelspec": {
   "display_name": "Python 3",
   "language": "python",
   "name": "python3"
  },
  "language_info": {
   "codemirror_mode": {
    "name": "ipython",
    "version": 3
   },
   "file_extension": ".py",
   "mimetype": "text/x-python",
   "name": "python",
   "nbconvert_exporter": "python",
   "pygments_lexer": "ipython3",
   "version": "3.8.8"
  }
 },
 "nbformat": 4,
 "nbformat_minor": 5
}
