{
 "cells": [
  {
   "cell_type": "code",
   "execution_count": 14,
   "id": "f19ca090",
   "metadata": {},
   "outputs": [],
   "source": [
    "# print list"
   ]
  },
  {
   "cell_type": "code",
   "execution_count": 19,
   "id": "55f89948",
   "metadata": {},
   "outputs": [
    {
     "name": "stdout",
     "output_type": "stream",
     "text": [
      "ap\n",
      "ke\n",
      "b\n",
      "1\n",
      "23\n",
      "4\n"
     ]
    }
   ],
   "source": [
    "l=[\"ap\",\"ke\",\"b\",1,23,4]\n",
    "for i in range(len(l)):\n",
    "    print(l[i])"
   ]
  },
  {
   "cell_type": "code",
   "execution_count": null,
   "id": "2bc5676e",
   "metadata": {},
   "outputs": [],
   "source": [
    "#check numbers in list is divisible by x"
   ]
  },
  {
   "cell_type": "code",
   "execution_count": 16,
   "id": "9ac327be",
   "metadata": {},
   "outputs": [
    {
     "name": "stdout",
     "output_type": "stream",
     "text": [
      "Enter x:3\n",
      "65 is not divisible by 3\n",
      "78 is divisible by 3\n",
      "44 is not divisible by 3\n",
      "50 is not divisible by 3\n",
      "12 is divisible by 3\n",
      "34 is not divisible by 3\n"
     ]
    }
   ],
   "source": [
    "x=int(input(\"Enter x:\"))\n",
    "l=[65,78,44,50,12,34]\n",
    "for i in range(len(l)):\n",
    "    if (l[i]%x==0):\n",
    "        print(\"{0} is divisible by {1}\".format(l[i],x))\n",
    "    else:\n",
    "        print(\"{0} is not divisible by {1}\".format(l[i],x))\n"
   ]
  },
  {
   "cell_type": "code",
   "execution_count": null,
   "id": "3bdcef84",
   "metadata": {},
   "outputs": [],
   "source": [
    "# addition of 2 matrices "
   ]
  },
  {
   "cell_type": "code",
   "execution_count": 45,
   "id": "eaaee3b6",
   "metadata": {},
   "outputs": [
    {
     "name": "stdout",
     "output_type": "stream",
     "text": [
      "[2, 4, 6]\n",
      "[8, 10, 12]\n",
      "[14, 16, 18]\n"
     ]
    }
   ],
   "source": [
    "A=[[1,2,3],[4,5,6],[7,8,9]]\n",
    "B=[[1,2,3],[4,5,6],[7,8,9]]\n",
    "for i in range(len(A)):\n",
    "    for j in range(len(A[i])):\n",
    "        C[i][j]=A[i][j]+B[i][j]\n",
    "for c in C:\n",
    "    print(list(c))"
   ]
  },
  {
   "cell_type": "code",
   "execution_count": null,
   "id": "24b19405",
   "metadata": {},
   "outputs": [],
   "source": [
    "# multiply 2 matrices"
   ]
  },
  {
   "cell_type": "code",
   "execution_count": 46,
   "id": "471b69a8",
   "metadata": {},
   "outputs": [
    {
     "name": "stdout",
     "output_type": "stream",
     "text": [
      "[5, 16, 33]\n",
      "[56, 85, 120]\n",
      "[161, 208, 261]\n"
     ]
    }
   ],
   "source": [
    "A=[[1,2,3],[4,5,6],[7,8,9]]\n",
    "B=[[1,2,3],[4,5,6],[7,8,9]]\n",
    "for i in range(len(A)):\n",
    "    for j in range(len(B[i])):\n",
    "        for k in range(len(B)):\n",
    "            C[i][j]+=A[i][j]*B[i][j]\n",
    "for c in C:\n",
    "    print(list(c))"
   ]
  },
  {
   "cell_type": "code",
   "execution_count": 47,
   "id": "a58fd19a",
   "metadata": {},
   "outputs": [
    {
     "name": "stdout",
     "output_type": "stream",
     "text": [
      "[8, 28, 60]\n",
      "[104, 160, 228]\n",
      "[308, 400, 504]\n"
     ]
    }
   ],
   "source": [
    "A=[[1,2,3],\n",
    "   [4,5,6],\n",
    "   [7,8,9]]\n",
    "B=[[1,2,3],\n",
    "   [4,5,6],\n",
    "   [7,8,9]]\n",
    "for i in range(len(A)):\n",
    "    for j in range(len(B[i])):\n",
    "        for k in range(len(B)):\n",
    "            C[i][j]+=A[i][j]*B[i][j]\n",
    "for c in C:\n",
    "    print(list(c))"
   ]
  },
  {
   "cell_type": "code",
   "execution_count": null,
   "id": "85119edc",
   "metadata": {},
   "outputs": [],
   "source": [
    "# transpose a matrix "
   ]
  },
  {
   "cell_type": "code",
   "execution_count": 48,
   "id": "73a669ff",
   "metadata": {},
   "outputs": [
    {
     "name": "stdout",
     "output_type": "stream",
     "text": [
      "[1, 4, 7]\n",
      "[2, 5, 8]\n",
      "[3, 6, 9]\n"
     ]
    }
   ],
   "source": [
    "A=[[1,2,3],\n",
    "   [4,5,6],\n",
    "   [7,8,9]]\n",
    "for i in range(len(A)):\n",
    "    for j in range(len(A[i])):\n",
    "            C[j][i]=A[i][j]\n",
    "for c in C:\n",
    "    print(list(c))"
   ]
  },
  {
   "cell_type": "code",
   "execution_count": 49,
   "id": "d71bd6b1",
   "metadata": {},
   "outputs": [],
   "source": [
    "# flatten list \n",
    "#[[1],[2,3],[4,5,6,7],[8,9]] = [1,2,3,4,5,6,7,8,9]"
   ]
  },
  {
   "cell_type": "code",
   "execution_count": 56,
   "id": "acccd5f3",
   "metadata": {},
   "outputs": [
    {
     "name": "stdout",
     "output_type": "stream",
     "text": [
      "[1, 2, 3, 4, 5, 6, 7, 8, 9]\n"
     ]
    }
   ],
   "source": [
    "list=[[1],[2,3],[4,5,6,7],[8,9]]\n",
    "x=[]\n",
    "for sublist in list:\n",
    "    for num in sublist:\n",
    "        x.append(num)\n",
    "print(x)"
   ]
  },
  {
   "cell_type": "code",
   "execution_count": null,
   "id": "eef5cb65",
   "metadata": {},
   "outputs": [],
   "source": []
  },
  {
   "cell_type": "code",
   "execution_count": null,
   "id": "5c68d0c1",
   "metadata": {},
   "outputs": [],
   "source": []
  }
 ],
 "metadata": {
  "kernelspec": {
   "display_name": "Python 3",
   "language": "python",
   "name": "python3"
  },
  "language_info": {
   "codemirror_mode": {
    "name": "ipython",
    "version": 3
   },
   "file_extension": ".py",
   "mimetype": "text/x-python",
   "name": "python",
   "nbconvert_exporter": "python",
   "pygments_lexer": "ipython3",
   "version": "3.8.8"
  }
 },
 "nbformat": 4,
 "nbformat_minor": 5
}
