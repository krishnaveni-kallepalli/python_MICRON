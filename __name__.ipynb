{
 "cells": [
  {
   "cell_type": "code",
   "execution_count": 4,
   "id": "67267a8d",
   "metadata": {},
   "outputs": [
    {
     "name": "stdout",
     "output_type": "stream",
     "text": [
      "Ex:__name__ is set to __main__\n"
     ]
    }
   ],
   "source": [
    "print(\"Ex:__name__ is set to {}\".format(__name__))"
   ]
  },
  {
   "cell_type": "code",
   "execution_count": 5,
   "id": "0c299b17",
   "metadata": {},
   "outputs": [
    {
     "name": "stdout",
     "output_type": "stream",
     "text": [
      "its main\n"
     ]
    }
   ],
   "source": [
    "if __name__ == \"__main__\":\n",
    "    print(\"its main\")\n",
    "else:\n",
    "    print(\"its not main\")"
   ]
  },
  {
   "cell_type": "code",
   "execution_count": 3,
   "id": "0dde1645",
   "metadata": {},
   "outputs": [
    {
     "name": "stdout",
     "output_type": "stream",
     "text": [
      "Ex:__name__ is set to __main__\n",
      "its main\n"
     ]
    }
   ],
   "source": [
    "print(\"Ex:__name__ is set to {}\".format(__name__))\n",
    "if __name__ == \"__main__\":\n",
    "    print(\"its main\")\n",
    "else:\n",
    "    print(\"its not main\")"
   ]
  },
  {
   "cell_type": "code",
   "execution_count": 8,
   "id": "ef7c2bfc",
   "metadata": {},
   "outputs": [
    {
     "name": "stdout",
     "output_type": "stream",
     "text": [
      "Ex:__name__ is set to __main__\n",
      "its main\n"
     ]
    }
   ],
   "source": [
    "print(\"Ex:__name__ is set to {}\".format(__name__))\n",
    "def fun():\n",
    "    print(\"It's fun\")\n",
    "def fun2():\n",
    "    print(\"Its fun2\")\n",
    "if __name__ == \"__main__\":\n",
    "    print(\"its main\")\n",
    "else:\n",
    "    print(\"its not main\")"
   ]
  },
  {
   "cell_type": "code",
   "execution_count": null,
   "id": "9867ce0d",
   "metadata": {},
   "outputs": [],
   "source": [
    "# within __name__  we can create objects and do function calls "
   ]
  }
 ],
 "metadata": {
  "kernelspec": {
   "display_name": "Python 3",
   "language": "python",
   "name": "python3"
  },
  "language_info": {
   "codemirror_mode": {
    "name": "ipython",
    "version": 3
   },
   "file_extension": ".py",
   "mimetype": "text/x-python",
   "name": "python",
   "nbconvert_exporter": "python",
   "pygments_lexer": "ipython3",
   "version": "3.8.8"
  }
 },
 "nbformat": 4,
 "nbformat_minor": 5
}
