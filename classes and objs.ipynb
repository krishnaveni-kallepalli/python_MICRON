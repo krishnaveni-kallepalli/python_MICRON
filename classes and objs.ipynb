{
 "cells": [
  {
   "cell_type": "code",
   "execution_count": 2,
   "id": "ba6db169",
   "metadata": {},
   "outputs": [
    {
     "name": "stdout",
     "output_type": "stream",
     "text": [
      "Enter name:k\n",
      "Name is:  k\n",
      "Enter name:k\n",
      "Name is:  k\n"
     ]
    }
   ],
   "source": [
    "class classA:\n",
    "    def __init__(self,name):\n",
    "        self.name = name\n",
    "    def objA():\n",
    "        name = input(\"Enter name:\")\n",
    "        print(\"Name is: \",name)\n",
    "classA.objA()\n",
    "classA.objA()"
   ]
  },
  {
   "cell_type": "code",
   "execution_count": 1,
   "id": "82850c07",
   "metadata": {},
   "outputs": [
    {
     "name": "stdout",
     "output_type": "stream",
     "text": [
      "Enter name:k\n",
      "Name is:  k\n"
     ]
    }
   ],
   "source": [
    "class classA:\n",
    "    def __init__(self,name):\n",
    "        self.name = name\n",
    "    def objA():\n",
    "        print(\"Name is: \",name)\n",
    "name = input(\"Enter name:\")\n",
    "classA.objA()"
   ]
  },
  {
   "cell_type": "code",
   "execution_count": 3,
   "id": "1b042ebd",
   "metadata": {},
   "outputs": [
    {
     "name": "stdout",
     "output_type": "stream",
     "text": [
      "Enter name:kk\n",
      "Enter roll.no :9\n",
      "Name is:  kk\n",
      "Roll.no is : 9\n",
      "Enter name:o\n",
      "Enter roll.no :0\n",
      "Name is:  o\n",
      "Roll.no is : 0\n"
     ]
    }
   ],
   "source": [
    "class classA:\n",
    "    def __init__(self,name,roll):\n",
    "        self.name = name\n",
    "        self.roll = roll\n",
    "    def objA():\n",
    "        name = input(\"Enter name:\")\n",
    "        roll = int(input(\"Enter roll.no :\"))\n",
    "        print(\"Name is: \",name)\n",
    "        print(\"Roll.no is :\",roll)\n",
    "classA.objA()\n",
    "classA.objA()"
   ]
  },
  {
   "cell_type": "code",
   "execution_count": 4,
   "id": "f32f7f18",
   "metadata": {},
   "outputs": [
    {
     "name": "stdout",
     "output_type": "stream",
     "text": [
      "display:\n",
      "Name is:  krishna\n",
      "Roll.no is : 2\n",
      "display:\n",
      "Name is:  KRISHNA\n",
      "Roll.no is : 3\n"
     ]
    }
   ],
   "source": [
    "class classA:\n",
    "    def __init__(self,name,roll):\n",
    "        self.name = name\n",
    "        self.roll = roll\n",
    "    def display(self):\n",
    "        print(\"display:\")\n",
    "        print(\"Name is: \",self.name)\n",
    "        print(\"Roll.no is :\",self.roll)\n",
    "\n",
    "obj1=classA(\"krishna\",2)\n",
    "obj1.display()\n",
    "obj2=classA(\"KRISHNA\",3)\n",
    "obj2.display()"
   ]
  },
  {
   "cell_type": "code",
   "execution_count": 5,
   "id": "c5b08cf1",
   "metadata": {},
   "outputs": [
    {
     "name": "stdout",
     "output_type": "stream",
     "text": [
      "Display:\n",
      "Name is:  krishna\n",
      "Roll.no is : 2\n",
      "Display:\n",
      "Name is:  Krishna\n",
      "Roll.no is : 3\n"
     ]
    }
   ],
   "source": [
    "class classA:\n",
    "    def __init__(self,name,roll):\n",
    "        self.name = name\n",
    "        self.roll = roll\n",
    "    def display(self):\n",
    "        print(\"Display:\")\n",
    "        print(\"Name is: \",self.name)\n",
    "        print(\"Roll.no is :\",self.roll)\n",
    "name = 'krishna'\n",
    "roll =2\n",
    "obj1=classA(name,roll)\n",
    "obj1.display()\n",
    "name = 'Krishna'\n",
    "roll =3\n",
    "obj2=classA(name,roll) \n",
    "obj2.display()"
   ]
  },
  {
   "cell_type": "code",
   "execution_count": 42,
   "id": "47bb465d",
   "metadata": {},
   "outputs": [
    {
     "name": "stdout",
     "output_type": "stream",
     "text": [
      "3 1 2 2.0 2 2\n"
     ]
    }
   ],
   "source": [
    "class calc:\n",
    "    def __init__(self,a,b):\n",
    "        self.a=a\n",
    "        self.b=b\n",
    "    def add(self):\n",
    "        return a+b\n",
    "    def sub(self):\n",
    "        return a-b\n",
    "    def mul(self):\n",
    "        return a*b\n",
    "    def div(self):\n",
    "        return a/b\n",
    "    def fdiv(self):\n",
    "        return a//b\n",
    "    def power(self):\n",
    "        return a**b\n",
    "a=2\n",
    "b=1\n",
    "obj=calc(a,b)\n",
    "print(obj.add(),obj.sub(),obj.mul(),obj.div(),obj.fdiv(),obj.power())"
   ]
  },
  {
   "cell_type": "code",
   "execution_count": null,
   "id": "c59267d7",
   "metadata": {},
   "outputs": [],
   "source": [
    "class network:\n",
    "    def __init__(self,ID,pwd):\n",
    "        self.ID = ID\n",
    "        self.pwd = pwd\n",
    "    def input_check(self,d):\n",
    "        for key in d:\n",
    "            if ID == key and pwd == d[key]:\n",
    "                print(\"Connected!\")\n",
    "            elif ID != key and pwd != d[key]:\n",
    "                print(\"\\nUnable to connect to network..\\nIncorrect ID or password...\\nReEnter the details\")\n",
    "            else:\n",
    "                print(\"Network not found...\")\n",
    "                \n",
    "ID=input(\"ENter Network ID:\")\n",
    "pwd=input(\"Enter password:\")\n",
    "d={'krish':\"Krish12@3\",'kittu':\"Kittu1@23\"}\n",
    "obj=network(ID,pwd)\n",
    "obj.input_check(d)"
   ]
  },
  {
   "cell_type": "code",
   "execution_count": 8,
   "id": "d1a0a768",
   "metadata": {},
   "outputs": [
    {
     "name": "stdout",
     "output_type": "stream",
     "text": [
      "1 hi\n",
      "2 hello\n"
     ]
    }
   ],
   "source": [
    "d={1:'hi',2:'hello'}\n",
    "for key in d:\n",
    "    print(key,d[key])"
   ]
  },
  {
   "cell_type": "code",
   "execution_count": null,
   "id": "78c37bcc",
   "metadata": {},
   "outputs": [],
   "source": [
    "class network:\n",
    "    def __init__(self,ID,pwd):\n",
    "        self.ID = ID\n",
    "        self.pwd = pwd\n",
    "    def details():\n",
    "        print(\"Available Networks:\")\n",
    "        for key in d:\n",
    "            print(key)\n",
    "        ID=input(\"ENter Network ID:\")\n",
    "        pwd=input(\"Enter password:\")\n",
    "    def input_check(self,d):\n",
    "        if ID == key and pwd == d[key]:\n",
    "            print(\"Connected..!\")\n",
    "        else:\n",
    "            print(\"Unable to connect..!\")\n",
    "\n",
    "d={'krish':\"Krish12@3\",'kittu':\"Kittu1@23\",1:'k'}\n",
    "print(d)\n",
    "'''\n",
    "ID=input(\"ENter Network ID:\")\n",
    "pwd=input(\"Enter password:\")'''\n",
    "network.details()\n",
    "obj=network(ID,pwd)\n",
    "obj.input_check(d)\n"
   ]
  },
  {
   "cell_type": "code",
   "execution_count": null,
   "id": "489042bd",
   "metadata": {},
   "outputs": [],
   "source": [
    "d={1:'krish',2:'krishna',3:'kittu'}\n",
    "print(\"Available Networks:\")\n",
    "for key in d:\n",
    "    print(key)\n",
    "\n",
    "def connect(id,pwd,d):\n",
    "    for key in d:\n",
    "        print(id,key)\n",
    "        print(key,d[key])\n",
    "        if id==key and pwd==d[key]:\n",
    "            print(\"connected \")\n",
    "            break\n",
    "        else:\n",
    "            print(\"None\")\n",
    "            break\n",
    "id=2\n",
    "pwd=\"krishna\"\n",
    "connect(id,pwd,d)"
   ]
  },
  {
   "cell_type": "code",
   "execution_count": 10,
   "id": "281ef5ef",
   "metadata": {},
   "outputs": [
    {
     "name": "stdout",
     "output_type": "stream",
     "text": [
      "Model: suzuki\n",
      "Number: s-cross\n"
     ]
    }
   ],
   "source": [
    "class car:\n",
    "    def __init__(self,model,num):\n",
    "        self.model = model\n",
    "        self.num = num\n",
    "    def models(self):\n",
    "        print(\"Model:\",model)\n",
    "        print(\"Number:\",num)\n",
    "obj=car(\"SUZUKI\",\"s-cross\")\n",
    "obj.models()"
   ]
  },
  {
   "cell_type": "code",
   "execution_count": null,
   "id": "896e8935",
   "metadata": {},
   "outputs": [],
   "source": [
    "class car:\n",
    "    def __init__(self,model,num):\n",
    "        self.model = model\n",
    "        self.num = num\n",
    "    def models(self):\n",
    "        print(\"Model:\",model)\n",
    "        print(\"Number:\",num)\n",
    "model=\"suzuki\"\n",
    "num=\"s-cross\"\n",
    "obj=car(model,num)\n",
    "obj.models()"
   ]
  },
  {
   "cell_type": "code",
   "execution_count": 14,
   "id": "0543e89b",
   "metadata": {},
   "outputs": [
    {
     "name": "stdout",
     "output_type": "stream",
     "text": [
      "I can eat\n",
      "My name is  Rohu\n"
     ]
    }
   ],
   "source": [
    "class Animal:\n",
    "    name = \"\"\n",
    "    def eat(self):\n",
    "        print(\"I can eat\")\n",
    "class Dog(Animal):\n",
    "    def display(self):\n",
    "        print(\"My name is \", self.name)\n",
    "obj = Dog()\n",
    "obj.name = \"Rohu\"\n",
    "obj.eat()\n",
    "obj.display()"
   ]
  },
  {
   "cell_type": "code",
   "execution_count": 18,
   "id": "586076c3",
   "metadata": {},
   "outputs": [
    {
     "name": "stdout",
     "output_type": "stream",
     "text": [
      "I can drink\n",
      "Name: tommy\n"
     ]
    }
   ],
   "source": [
    "class animal:\n",
    "    name =\"\"\n",
    "    def drink(self):\n",
    "        print(\"I can drink\")\n",
    "class cat(animal):\n",
    "    def res(self):\n",
    "        print(\"Name:\",self.name)\n",
    "obj=cat()\n",
    "obj.name=\"tommy\"\n",
    "obj.drink()\n",
    "obj.res()"
   ]
  },
  {
   "cell_type": "code",
   "execution_count": 1,
   "id": "90f59c43",
   "metadata": {},
   "outputs": [
    {
     "name": "stdout",
     "output_type": "stream",
     "text": [
      "A\n",
      "B\n"
     ]
    }
   ],
   "source": [
    "class A:\n",
    "    def fun(self):\n",
    "        print(\"A\")\n",
    "class B:\n",
    "    def fun(self):\n",
    "        print(\"B\")\n",
    "obj = A()\n",
    "obj.fun()\n",
    "obj = B()\n",
    "obj.fun()"
   ]
  },
  {
   "cell_type": "code",
   "execution_count": 14,
   "id": "5d3c21aa",
   "metadata": {},
   "outputs": [
    {
     "name": "stdout",
     "output_type": "stream",
     "text": [
      "hi\n",
      "2 3\n",
      "{'x': 2, 'y': 3}\n",
      "hi\n",
      "3 4\n"
     ]
    },
    {
     "data": {
      "text/plain": [
       "'x:3  y:4'"
      ]
     },
     "execution_count": 14,
     "metadata": {},
     "output_type": "execute_result"
    }
   ],
   "source": [
    "class A:\n",
    "    def __init__(ex,x,y):\n",
    "        ex.x = x\n",
    "        ex.y = y\n",
    "        print(\"hi\")\n",
    "        print(x,y)\n",
    "    def details(self):\n",
    "        return f\"x:{self.x}  y:{self.y}\"\n",
    "obj = A(2,3)\n",
    "print(obj.__dict__)\n",
    "obj = A(3,4)\n",
    "obj.__dict__\n",
    "obj.details()"
   ]
  },
  {
   "cell_type": "code",
   "execution_count": 10,
   "id": "31a31454",
   "metadata": {},
   "outputs": [
    {
     "name": "stdout",
     "output_type": "stream",
     "text": [
      "Starts optimization in epoch %d. 9\n"
     ]
    }
   ],
   "source": [
    "#from absl import logging\n",
    "class x:\n",
    "    def __init__(self,epochs: int = 3)->None:\n",
    "        self._epochs = epochs\n",
    "\n",
    "\n",
    "    def optimize(self, epoch: int) -> None:\n",
    "        print('Starts optimization in epoch %d.', epoch)\n",
    "obj=x()\n",
    "obj.optimize(9)\n"
   ]
  },
  {
   "cell_type": "code",
   "execution_count": null,
   "id": "987408b4",
   "metadata": {},
   "outputs": [],
   "source": []
  }
 ],
 "metadata": {
  "kernelspec": {
   "display_name": "Python 3",
   "language": "python",
   "name": "python3"
  }
 },
 "nbformat": 4,
 "nbformat_minor": 5
}
