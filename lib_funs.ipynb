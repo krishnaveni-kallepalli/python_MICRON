{
 "cells": [
  {
   "cell_type": "code",
   "execution_count": 3,
   "id": "7de9ce86",
   "metadata": {},
   "outputs": [
    {
     "name": "stdout",
     "output_type": "stream",
     "text": [
      "2023-05-24\n",
      "2023-05-24 14:35:22.015354\n"
     ]
    }
   ],
   "source": [
    "import datetime\n",
    "obj=datetime.date.today()\n",
    "print(obj)\n",
    "obj=datetime.datetime.now()\n",
    "print(obj)"
   ]
  },
  {
   "cell_type": "code",
   "execution_count": 21,
   "id": "73664f17",
   "metadata": {},
   "outputs": [
    {
     "name": "stdout",
     "output_type": "stream",
     "text": [
      "Time: 00:00:00\n",
      "Time: 30\n",
      "Time: 20\n",
      "Time: 10\n",
      "Time: 222\n"
     ]
    }
   ],
   "source": [
    "from datetime import time \n",
    "t=time()\n",
    "print(\"Time:\",t)\n",
    "t=time(10,20,30,222)\n",
    "print(\"Time:\",t.second)\n",
    "print(\"Time:\",t.minute)\n",
    "print(\"Time:\",t.hour)\n",
    "print(\"Time:\",t.microsecond)"
   ]
  },
  {
   "cell_type": "code",
   "execution_count": 33,
   "id": "8fdb32d1",
   "metadata": {},
   "outputs": [
    {
     "name": "stdout",
     "output_type": "stream",
     "text": [
      "   December 2023\n",
      "Mo Tu We Th Fr Sa Su\n",
      "             1  2  3\n",
      " 4  5  6  7  8  9 10\n",
      "11 12 13 14 15 16 17\n",
      "18 19 20 21 22 23 24\n",
      "25 26 27 28 29 30 31\n",
      "\n",
      "True\n",
      "(2023, 11)\n",
      "(2024, 1)\n"
     ]
    }
   ],
   "source": [
    "import calendar \n",
    "cal=calendar.month(2023,12)\n",
    "print(cal)\n",
    "x=calendar.isleap(2024)\n",
    "print(x)\n",
    "y=calendar._prevmonth(2023,12)\n",
    "print(y)\n",
    "z=calendar._nextmonth(2023,12)\n",
    "print(z)"
   ]
  },
  {
   "cell_type": "code",
   "execution_count": null,
   "id": "4eb03629",
   "metadata": {},
   "outputs": [],
   "source": []
  }
 ],
 "metadata": {
  "kernelspec": {
   "display_name": "Python 3",
   "language": "python",
   "name": "python3"
  },
  "language_info": {
   "codemirror_mode": {
    "name": "ipython",
    "version": 3
   },
   "file_extension": ".py",
   "mimetype": "text/x-python",
   "name": "python",
   "nbconvert_exporter": "python",
   "pygments_lexer": "ipython3",
   "version": "3.8.8"
  }
 },
 "nbformat": 4,
 "nbformat_minor": 5
}
