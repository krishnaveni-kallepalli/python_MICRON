{
 "cells": [
  {
   "cell_type": "code",
   "execution_count": 1,
   "id": "5c5ca6de",
   "metadata": {},
   "outputs": [],
   "source": [
    "# check num is +ve/-Ve/0"
   ]
  },
  {
   "cell_type": "code",
   "execution_count": 10,
   "id": "b3862fa6",
   "metadata": {},
   "outputs": [
    {
     "name": "stdout",
     "output_type": "stream",
     "text": [
      "Enter num:-99\n",
      "ENterd number -99  is Negative\n"
     ]
    }
   ],
   "source": [
    "def checknum(num):\n",
    "    if num==0:\n",
    "        print(\"ENterd number\",num,\"is zero\")\n",
    "    elif num > 0:\n",
    "        print(\"ENterd number\",num,\"is positive\")\n",
    "    else:\n",
    "        print(\"ENterd number\",num,\"is Negative\")\n",
    "num=int(input(\"Enter num:\"))\n",
    "checknum(num)"
   ]
  },
  {
   "cell_type": "code",
   "execution_count": null,
   "id": "06aae01b",
   "metadata": {},
   "outputs": [],
   "source": [
    "# Even Odd "
   ]
  },
  {
   "cell_type": "code",
   "execution_count": 17,
   "id": "f32f5d84",
   "metadata": {},
   "outputs": [
    {
     "name": "stdout",
     "output_type": "stream",
     "text": [
      "Enter num:23\n",
      "23 is Odd\n"
     ]
    }
   ],
   "source": [
    "def evenodd(num):\n",
    "    if num%2==0:\n",
    "        print(\"{0} is Even\".format(num))\n",
    "    else:\n",
    "        print(\"{0} is Odd\".format(num))\n",
    "num=int(input(\"Enter num:\"))\n",
    "evenodd(num)"
   ]
  },
  {
   "cell_type": "code",
   "execution_count": 15,
   "id": "7e3a4d86",
   "metadata": {},
   "outputs": [],
   "source": [
    "# Leap year"
   ]
  },
  {
   "cell_type": "code",
   "execution_count": 23,
   "id": "d757f7ed",
   "metadata": {},
   "outputs": [
    {
     "name": "stdout",
     "output_type": "stream",
     "text": [
      "Enter num:2000\n",
      "2000 is a leap year\n"
     ]
    }
   ],
   "source": [
    "def leapyear(num):\n",
    "    if num%400==0 and num%100==0:\n",
    "        print(\"{0} is a leap year\".format(num))\n",
    "    elif num%4==0 and num%100!=0:\n",
    "        print(\"{0} is a leap year\".format(num))\n",
    "    else:\n",
    "        print(\"{0} is not a leap year\".format(num))\n",
    "num=int(input(\"Enter num:\"))\n",
    "leapyear(num)"
   ]
  },
  {
   "cell_type": "code",
   "execution_count": 24,
   "id": "4cf7b38b",
   "metadata": {},
   "outputs": [],
   "source": [
    "# Largest among 3"
   ]
  },
  {
   "cell_type": "code",
   "execution_count": 28,
   "id": "9584277a",
   "metadata": {},
   "outputs": [
    {
     "name": "stdout",
     "output_type": "stream",
     "text": [
      "Enter a:3\n",
      "Enter b:2\n",
      "Enter c:1\n",
      "3 is largest\n"
     ]
    }
   ],
   "source": [
    "def largest(a,b,c):\n",
    "    if a>b and a>c:\n",
    "        print(\"{0} is largest\".format(a))\n",
    "    elif b>c and b>c:\n",
    "        print(\"{0} is largest\".format(b))\n",
    "    else:\n",
    "        print(\"{0} is largest\".format(c))\n",
    "a=int(input(\"Enter a:\"))\n",
    "b=int(input(\"Enter b:\"))\n",
    "c=int(input(\"Enter c:\"))\n",
    "largest(a,b,c)"
   ]
  },
  {
   "cell_type": "code",
   "execution_count": 32,
   "id": "8c7a8b70",
   "metadata": {},
   "outputs": [
    {
     "name": "stdout",
     "output_type": "stream",
     "text": [
      "Enter a:23\n",
      "Enter b:67\n",
      "Enter c:33\n",
      "67 is largest\n"
     ]
    }
   ],
   "source": [
    "def largest(a,b,c):\n",
    "    if a>b and a>c:\n",
    "        l=a\n",
    "    elif b>c and b>c:\n",
    "        l=b\n",
    "    else:\n",
    "        l=c\n",
    "    print(\"{0} is largest\".format(l))\n",
    "a=int(input(\"Enter a:\"))\n",
    "b=int(input(\"Enter b:\"))\n",
    "c=int(input(\"Enter c:\"))\n",
    "largest(a,b,c)"
   ]
  },
  {
   "cell_type": "code",
   "execution_count": 33,
   "id": "38fdc903",
   "metadata": {},
   "outputs": [],
   "source": [
    "# prime or not "
   ]
  },
  {
   "cell_type": "code",
   "execution_count": 43,
   "id": "ec908e85",
   "metadata": {},
   "outputs": [
    {
     "name": "stdout",
     "output_type": "stream",
     "text": [
      "Enter num:33\n",
      "33 is Not prime number\n"
     ]
    }
   ],
   "source": [
    "def prime(num):\n",
    "    flag=0\n",
    "    if num==1:\n",
    "        print(\"{0} is Not prime number\".format(num))\n",
    "    elif num>1:\n",
    "        for i in range(2,num):\n",
    "            if(num%i==0):\n",
    "                flag = flag+1\n",
    "                break\n",
    "        if flag == 0:\n",
    "            print(\"{0} is prime number\".format(num))\n",
    "        else:\n",
    "            print(\"{0} is Not prime number\".format(num))\n",
    "\n",
    "num = int(input(\"Enter num:\"))\n",
    "prime(num)"
   ]
  },
  {
   "cell_type": "code",
   "execution_count": 44,
   "id": "402b9bf3",
   "metadata": {},
   "outputs": [],
   "source": [
    "# print prime nums in given range "
   ]
  },
  {
   "cell_type": "code",
   "execution_count": 62,
   "id": "9d25bf9c",
   "metadata": {},
   "outputs": [
    {
     "name": "stdout",
     "output_type": "stream",
     "text": [
      "Enter a:2\n",
      "Enter b:10\n",
      "2\n",
      "3\n",
      "5\n",
      "7\n"
     ]
    }
   ],
   "source": [
    "def primenum(a,b):\n",
    "    for num in range (a,b+1):\n",
    "        if num>1:\n",
    "            for i in range(2,num):\n",
    "                if(num%i==0):\n",
    "                    break\n",
    "            else:\n",
    "                print(num)\n",
    "a=int(input(\"Enter a:\"))\n",
    "b=int(input(\"Enter b:\"))\n",
    "primenum(a,b)"
   ]
  },
  {
   "cell_type": "code",
   "execution_count": null,
   "id": "987511c3",
   "metadata": {},
   "outputs": [],
   "source": [
    "# Factorial"
   ]
  },
  {
   "cell_type": "code",
   "execution_count": 1,
   "id": "51794cd5",
   "metadata": {},
   "outputs": [
    {
     "name": "stdout",
     "output_type": "stream",
     "text": [
      "Enter number:7\n",
      "The factorial of 7 is 5040\n"
     ]
    }
   ],
   "source": [
    "def fact(num):\n",
    "    factorial =1\n",
    "    for i in range(1,num + 1):\n",
    "        factorial = factorial*i\n",
    "    print(\"The factorial of\",num,\"is\",factorial)\n",
    "num=int(input(\"Enter number:\"))\n",
    "fact(num)"
   ]
  },
  {
   "cell_type": "code",
   "execution_count": null,
   "id": "8c98a86c",
   "metadata": {},
   "outputs": [],
   "source": [
    "#display multiplication table "
   ]
  },
  {
   "cell_type": "code",
   "execution_count": 7,
   "id": "8bba7b04",
   "metadata": {},
   "outputs": [
    {
     "name": "stdout",
     "output_type": "stream",
     "text": [
      "Enter number:2\n",
      "2 x 1 = 2\n",
      "2 x 2 = 4\n",
      "2 x 3 = 6\n",
      "2 x 4 = 8\n",
      "2 x 5 = 10\n",
      "2 x 6 = 12\n",
      "2 x 7 = 14\n",
      "2 x 8 = 16\n",
      "2 x 9 = 18\n",
      "2 x 10 = 20\n"
     ]
    }
   ],
   "source": [
    "def table(num):\n",
    "    for i in range(1,11):\n",
    "        res = num*i\n",
    "        print(num,\"x\",i,\"=\",res)\n",
    "num=int(input(\"Enter number:\"))\n",
    "table(num)"
   ]
  },
  {
   "cell_type": "code",
   "execution_count": 13,
   "id": "38b78f5c",
   "metadata": {},
   "outputs": [
    {
     "name": "stdout",
     "output_type": "stream",
     "text": [
      "Enter number:3\n",
      "3 x 1 = 3\n",
      "3 x 2 = 6\n",
      "3 x 3 = 9\n",
      "3 x 4 = 12\n",
      "3 x 5 = 15\n",
      "3 x 6 = 18\n",
      "3 x 7 = 21\n",
      "3 x 8 = 24\n",
      "3 x 9 = 27\n",
      "3 x 10 = 30\n"
     ]
    }
   ],
   "source": [
    "def table(num):\n",
    "    for i in range(1,11):\n",
    "        res = num*i\n",
    "        print(\"{0} x {1} = {2}\".format(num,i,res))\n",
    "num=int(input(\"Enter number:\"))\n",
    "table(num)    "
   ]
  },
  {
   "cell_type": "code",
   "execution_count": null,
   "id": "76e727a9",
   "metadata": {},
   "outputs": [],
   "source": [
    "# fibonacci series"
   ]
  },
  {
   "cell_type": "code",
   "execution_count": 25,
   "id": "2f1488bd",
   "metadata": {},
   "outputs": [
    {
     "name": "stdout",
     "output_type": "stream",
     "text": [
      "Enter range:3\n",
      "0 1 1 2 3 "
     ]
    }
   ],
   "source": [
    "def fib(n):\n",
    "    n1=0\n",
    "    n2=1\n",
    "    print(n1,n2,end=' ')\n",
    "    for i in range(1,n+1):\n",
    "        num=n1+n2\n",
    "        n1=n2\n",
    "        n2=num\n",
    "        print(num,end=' ')\n",
    "n=int(input(\"Enter range:\"))\n",
    "fib(n)"
   ]
  },
  {
   "cell_type": "code",
   "execution_count": 26,
   "id": "0b3bd11d",
   "metadata": {},
   "outputs": [],
   "source": [
    "# Armstrong number or not "
   ]
  },
  {
   "cell_type": "code",
   "execution_count": 63,
   "id": "5cc99f10",
   "metadata": {},
   "outputs": [
    {
     "name": "stdout",
     "output_type": "stream",
     "text": [
      "Enter num:123\n",
      "3\n",
      "Not Armstrong\n"
     ]
    }
   ],
   "source": [
    "def arm(num):#123\n",
    "    sum=0\n",
    "    temp=num            #[temp=123]          [temp=12]       [temp=1]\n",
    "    for i in range(1,n+1):\n",
    "        # getting remainder i.e each digit separately\n",
    "        d=temp%10       # [(123%10 = 3)]    [12%10 = 2]     [1%10=1]\n",
    "        sum=sum+(d**n)  # [0+(3^3)=27]      [27+(2^3)=35]   [35+(1^3)=36]\n",
    "        temp=temp//10   # [123//10 = 12]    [12//10=1]      [1//10]\n",
    "    if num==sum:\n",
    "        print(\"Armstrong\")     #36!=123\n",
    "    else:\n",
    "        print(\"Not Armstrong\")\n",
    "#n = int(input(\"Enter no of digits in number:\"))  \n",
    "num=int(input(\"Enter num:\"))\n",
    "n=len(str(num))\n",
    "print(n)\n",
    "arm(num) #153"
   ]
  },
  {
   "cell_type": "code",
   "execution_count": 64,
   "id": "303a3362",
   "metadata": {},
   "outputs": [
    {
     "name": "stdout",
     "output_type": "stream",
     "text": [
      "Enter num:153\n",
      "3\n",
      "Armstrong\n"
     ]
    }
   ],
   "source": [
    "def arm(num):#123\n",
    "    sum=0\n",
    "    temp=num            #[temp=123]          [temp=12]       [temp=1]\n",
    "    for i in range(1,n+1):\n",
    "        # getting remainder i.e each digit separately\n",
    "        d=temp%10       # [(123%10 = 3)]    [12%10 = 5]     [1%10=1]\n",
    "        sum=sum+(d**n)  # [0+(3^3)=27]      [27+(5^3)=152]   [152+(1^3)=153]\n",
    "        temp=temp//10   # [123//10 = 12]    [15//10=1]      [1//10]\n",
    "    if num==sum:\n",
    "        print(\"Armstrong\")     #153=153\n",
    "    else:\n",
    "        print(\"Not Armstrong\")\n",
    "#n = int(input(\"Enter no of digits in number:\"))  \n",
    "num=int(input(\"Enter num:\"))\n",
    "n=len(str(num))\n",
    "print(n)\n",
    "arm(num) #153"
   ]
  },
  {
   "cell_type": "code",
   "execution_count": null,
   "id": "93b33835",
   "metadata": {},
   "outputs": [],
   "source": [
    "#sum of n natural nums"
   ]
  },
  {
   "cell_type": "code",
   "execution_count": 3,
   "id": "52718b56",
   "metadata": {},
   "outputs": [
    {
     "name": "stdout",
     "output_type": "stream",
     "text": [
      "Enter range:2\n",
      "3\n"
     ]
    }
   ],
   "source": [
    "def sumofn(n):\n",
    "    sum=0\n",
    "    for i in range(1,n+1):\n",
    "        sum=sum+i\n",
    "    print(sum)\n",
    "n=int(input(\"Enter range:\"))\n",
    "sumofn(n)"
   ]
  },
  {
   "cell_type": "code",
   "execution_count": null,
   "id": "16c2b1ca",
   "metadata": {},
   "outputs": [],
   "source": [
    "def sum_of_n(n):\n",
    "    sum = 0\n",
    "    x = 1\n",
    "    if n>=1:\n",
    "        while(x<=n):\n",
    "            sum = sum + x\n",
    "            x = x + 1\n",
    "        return sum\n",
    "n = int(input(\"ENter range:\"))\n",
    "print(sum_of_n(n))"
   ]
  },
  {
   "cell_type": "code",
   "execution_count": 4,
   "id": "67a4010d",
   "metadata": {},
   "outputs": [],
   "source": [
    "# multiply 2 nums without *"
   ]
  },
  {
   "cell_type": "code",
   "execution_count": 9,
   "id": "291e4f51",
   "metadata": {},
   "outputs": [
    {
     "name": "stdout",
     "output_type": "stream",
     "text": [
      "Enter x:2\n",
      "Enter y:3\n",
      "6\n"
     ]
    }
   ],
   "source": [
    "def mul(x,y):\n",
    "    p=0\n",
    "    while(y!=0):\n",
    "        p=p+x\n",
    "        y=y-1\n",
    "    print(p)\n",
    "x=int(input(\"Enter x:\"))\n",
    "y=int(input(\"Enter y:\"))\n",
    "mul(x,y)"
   ]
  },
  {
   "cell_type": "code",
   "execution_count": 10,
   "id": "967cc130",
   "metadata": {},
   "outputs": [],
   "source": [
    "# number divisible by another number"
   ]
  },
  {
   "cell_type": "code",
   "execution_count": 25,
   "id": "e299b0c9",
   "metadata": {},
   "outputs": [
    {
     "name": "stdout",
     "output_type": "stream",
     "text": [
      "Enter x:4\n",
      "Enter y:3\n",
      "4 is not divisible by 3\n"
     ]
    }
   ],
   "source": [
    "def div(x,y):\n",
    "    if(x%y==0):\n",
    "        print(\"{0} is divisible by {1}\".format(x,y))\n",
    "    else:\n",
    "        print(\"{0} is not divisible by {1}\".format(x,y))\n",
    "x=int(input(\"Enter x:\"))\n",
    "y=int(input(\"Enter y:\"))\n",
    "div(x,y)"
   ]
  },
  {
   "cell_type": "code",
   "execution_count": null,
   "id": "f04baa1e",
   "metadata": {},
   "outputs": [],
   "source": [
    "# factors of a number"
   ]
  },
  {
   "cell_type": "code",
   "execution_count": 28,
   "id": "bfc6d9fc",
   "metadata": {},
   "outputs": [
    {
     "name": "stdout",
     "output_type": "stream",
     "text": [
      "Enter num:48\n",
      "1\n",
      "2\n",
      "3\n",
      "4\n",
      "6\n",
      "8\n",
      "12\n",
      "16\n",
      "24\n",
      "48\n"
     ]
    }
   ],
   "source": [
    "def factor(n):\n",
    "    for i in range(1,n+1):\n",
    "        if(n%i==0):\n",
    "            print(i)\n",
    "n=int(input(\"Enter num:\"))\n",
    "factor(n)"
   ]
  },
  {
   "cell_type": "code",
   "execution_count": 9,
   "id": "535f227b",
   "metadata": {},
   "outputs": [
    {
     "name": "stdout",
     "output_type": "stream",
     "text": [
      "   September 2023\n",
      "Mo Tu We Th Fr Sa Su\n",
      "             1  2  3\n",
      " 4  5  6  7  8  9 10\n",
      "11 12 13 14 15 16 17\n",
      "18 19 20 21 22 23 24\n",
      "25 26 27 28 29 30\n",
      "\n"
     ]
    }
   ],
   "source": [
    "import calendar\n",
    "print(calendar.month(2023,9))"
   ]
  },
  {
   "cell_type": "code",
   "execution_count": null,
   "id": "5c69af0e",
   "metadata": {},
   "outputs": [],
   "source": []
  },
  {
   "cell_type": "code",
   "execution_count": null,
   "id": "0a2d598c",
   "metadata": {},
   "outputs": [],
   "source": []
  }
 ],
 "metadata": {
  "kernelspec": {
   "display_name": "Python 3",
   "language": "python",
   "name": "python3"
  },
  "language_info": {
   "codemirror_mode": {
    "name": "ipython",
    "version": 3
   },
   "file_extension": ".py",
   "mimetype": "text/x-python",
   "name": "python",
   "nbconvert_exporter": "python",
   "pygments_lexer": "ipython3",
   "version": "3.8.8"
  }
 },
 "nbformat": 4,
 "nbformat_minor": 5
}
