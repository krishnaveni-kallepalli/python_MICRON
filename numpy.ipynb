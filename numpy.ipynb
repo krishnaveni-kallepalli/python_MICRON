{
 "cells": [
  {
   "cell_type": "code",
   "execution_count": 20,
   "id": "396348a3",
   "metadata": {},
   "outputs": [
    {
     "name": "stdout",
     "output_type": "stream",
     "text": [
      "1: [1 2 3]\n",
      "\n",
      "2:\n",
      " [[1 2 3]\n",
      " [4 5 6]\n",
      " [5 6 7]]\n",
      "\n",
      "3: [1 3 2]\n"
     ]
    }
   ],
   "source": [
    "import numpy as np \n",
    "\n",
    "arr = np.array([1,2,3])\n",
    "print(\"1:\",arr)\n",
    "print(end = '\\n')\n",
    "arr = np.array([[1, 2, 3],[4, 5, 6],[5,6,7]])\n",
    "print(\"2:\\n\",arr)\n",
    "print(end = '\\n')\n",
    "arr = np.array((1,3,2))\n",
    "print(\"3:\",arr)"
   ]
  },
  {
   "cell_type": "code",
   "execution_count": 31,
   "id": "e43bc398",
   "metadata": {},
   "outputs": [
    {
     "name": "stdout",
     "output_type": "stream",
     "text": [
      "2:\n",
      " [[1 2 3]\n",
      " [4 5 6]\n",
      " [7 8 9]]\n",
      "\n",
      "[[1 2]\n",
      " [4 5]]\n"
     ]
    }
   ],
   "source": [
    "arr = np.array([[1,2,3],[4,5,6],[7,8,9]])\n",
    "print(\"2:\\n\",arr)\n",
    "print(end = '\\n')\n",
    "\n",
    "\n",
    "sliced_arr = arr[:2, :2]\n",
    "print(sliced_arr)"
   ]
  },
  {
   "cell_type": "code",
   "execution_count": 47,
   "id": "dae3e18d",
   "metadata": {},
   "outputs": [
    {
     "name": "stdout",
     "output_type": "stream",
     "text": [
      "[[1 3]\n",
      " [4 6]]\n",
      "[6 5]\n"
     ]
    }
   ],
   "source": [
    "arr = np.array([[1,2,3,4],[4,5,6,7],[7,8,9,8]])\n",
    "\n",
    "sliced_arr = arr[:2, ::2]\n",
    "print(sliced_arr)\n",
    "\n",
    "#                0 1 2\n",
    "arr = np.array([[1,2,3],  # 0\n",
    "                [4,5,6],  # 1\n",
    "                [7,8,9]]) # 2\n",
    "\n",
    "Index_arr = arr[[1, 1], #row\n",
    "                [2, 1]] #col \n",
    "\n",
    "# (1,2) ,(1,1)\n",
    "print(Index_arr)"
   ]
  },
  {
   "cell_type": "code",
   "execution_count": 33,
   "id": "ec18dff3",
   "metadata": {},
   "outputs": [
    {
     "name": "stdout",
     "output_type": "stream",
     "text": [
      "[[1 3]\n",
      " [4 6]]\n"
     ]
    }
   ],
   "source": [
    "sliced_arr = arr[:2, ::2]\n",
    "print(sliced_arr)"
   ]
  },
  {
   "cell_type": "code",
   "execution_count": 48,
   "id": "2c2a17ce",
   "metadata": {},
   "outputs": [],
   "source": [
    "# add element "
   ]
  },
  {
   "cell_type": "code",
   "execution_count": 53,
   "id": "6f373521",
   "metadata": {},
   "outputs": [
    {
     "name": "stdout",
     "output_type": "stream",
     "text": [
      "[[ 2  3  4]\n",
      " [ 5  6  7]\n",
      " [ 8  9 10]]\n"
     ]
    }
   ],
   "source": [
    "import numpy as np\n",
    "a = np.array([[1,2,3],[4,5,6],[7,8,9]])\n",
    "print(a+1)"
   ]
  },
  {
   "cell_type": "code",
   "execution_count": 68,
   "id": "2bb28aed",
   "metadata": {},
   "outputs": [
    {
     "name": "stdout",
     "output_type": "stream",
     "text": [
      "Array:\n",
      " [[1 3]\n",
      " [2 3]]\n",
      "After addition:\n",
      "[[2 4]\n",
      " [3 4]]\n"
     ]
    }
   ],
   "source": [
    "import numpy as np \n",
    "\n",
    "a = np.array([[1,3],\n",
    "              [2,3]])\n",
    "print(\"Array:\\n\",a)\n",
    "print(\"After addition:\")\n",
    "print(a+1)"
   ]
  },
  {
   "cell_type": "code",
   "execution_count": 56,
   "id": "83564f4b",
   "metadata": {},
   "outputs": [],
   "source": [
    "# subtract elemet "
   ]
  },
  {
   "cell_type": "code",
   "execution_count": 67,
   "id": "6f8b4930",
   "metadata": {},
   "outputs": [
    {
     "name": "stdout",
     "output_type": "stream",
     "text": [
      "Array:\n",
      " [[1 3]\n",
      " [2 3]]\n",
      "After subtraction:\n",
      "[[0 2]\n",
      " [1 2]]\n"
     ]
    }
   ],
   "source": [
    "import numpy as np \n",
    "\n",
    "a = np.array([[1,3],\n",
    "              [2,3]])\n",
    "print(\"Array:\\n\",a)\n",
    "print(\"After subtraction:\")\n",
    "print(a-1)"
   ]
  },
  {
   "cell_type": "code",
   "execution_count": 61,
   "id": "68b3434b",
   "metadata": {},
   "outputs": [],
   "source": [
    "# sum of all array elements "
   ]
  },
  {
   "cell_type": "code",
   "execution_count": 62,
   "id": "11ddfe3d",
   "metadata": {},
   "outputs": [
    {
     "data": {
      "text/plain": [
       "9"
      ]
     },
     "execution_count": 62,
     "metadata": {},
     "output_type": "execute_result"
    }
   ],
   "source": [
    "a.sum()"
   ]
  },
  {
   "cell_type": "code",
   "execution_count": null,
   "id": "307cae64",
   "metadata": {},
   "outputs": [],
   "source": [
    "# Adding 2 arrays"
   ]
  },
  {
   "cell_type": "code",
   "execution_count": 66,
   "id": "104db5d5",
   "metadata": {},
   "outputs": [
    {
     "name": "stdout",
     "output_type": "stream",
     "text": [
      "Adding two arrays:\n",
      "[[2 6]\n",
      " [4 6]]\n"
     ]
    }
   ],
   "source": [
    "a = np.array([[1,3],\n",
    "              [2,3]])\n",
    "\n",
    "b = np.array([[1,3],\n",
    "              [2,3]])\n",
    "\n",
    "print(\"Adding two arrays:\")\n",
    "print(a+b)"
   ]
  },
  {
   "cell_type": "code",
   "execution_count": 134,
   "id": "fdbff393",
   "metadata": {},
   "outputs": [],
   "source": [
    "# multiplying 2 arrays and 2 matrices "
   ]
  },
  {
   "cell_type": "code",
   "execution_count": 133,
   "id": "2c1ea9a9",
   "metadata": {},
   "outputs": [
    {
     "name": "stdout",
     "output_type": "stream",
     "text": [
      "Multiplying two arrays:\n",
      "[[1 9]\n",
      " [4 9]]\n",
      "Matrix multiplication:\n",
      " [[ 7 12]\n",
      " [ 8 15]]\n"
     ]
    }
   ],
   "source": [
    "a = np.array([[1,3],\n",
    "              [2,3]])\n",
    "\n",
    "b = np.array([[1,3],\n",
    "              [2,3]])\n",
    "\n",
    "print(\"Multiplying two arrays:\")\n",
    "print(a*b)\n",
    "print (\"Matrix multiplication:\\n\", a.dot(b))"
   ]
  },
  {
   "cell_type": "code",
   "execution_count": 80,
   "id": "9e2ea28e",
   "metadata": {},
   "outputs": [],
   "source": [
    "# datatype "
   ]
  },
  {
   "cell_type": "code",
   "execution_count": 69,
   "id": "d03add32",
   "metadata": {},
   "outputs": [
    {
     "name": "stdout",
     "output_type": "stream",
     "text": [
      "int32\n"
     ]
    }
   ],
   "source": [
    "print(a.dtype)"
   ]
  },
  {
   "cell_type": "code",
   "execution_count": 75,
   "id": "c515bd49",
   "metadata": {},
   "outputs": [
    {
     "name": "stdout",
     "output_type": "stream",
     "text": [
      "float64\n"
     ]
    }
   ],
   "source": [
    "x = np.array([1.0, 2.0]) \n",
    "print(x.dtype)"
   ]
  },
  {
   "cell_type": "code",
   "execution_count": 79,
   "id": "6a715450",
   "metadata": {},
   "outputs": [
    {
     "name": "stdout",
     "output_type": "stream",
     "text": [
      "\n",
      "Forcing a Datatype: \n",
      "int32\n",
      "[1 2]\n"
     ]
    }
   ],
   "source": [
    "x = np.array([1.0, 2.0], dtype = np.int32)   \n",
    "print(\"\\nForcing a Datatype: \")\n",
    "print(x.dtype)\n",
    "print(x)"
   ]
  },
  {
   "cell_type": "code",
   "execution_count": null,
   "id": "db280e5f",
   "metadata": {},
   "outputs": [],
   "source": [
    "# operations "
   ]
  },
  {
   "cell_type": "code",
   "execution_count": 95,
   "id": "8de94740",
   "metadata": {},
   "outputs": [
    {
     "name": "stdout",
     "output_type": "stream",
     "text": [
      "[[ 5 12]\n",
      " [11 19]]\n"
     ]
    }
   ],
   "source": [
    "a = np.array([[4,9],\n",
    "              [9,16]])\n",
    "\n",
    "b = np.array([[1,3],\n",
    "              [2,3]])\n",
    "\n",
    "x = np.add(a,b)\n",
    "print(x)"
   ]
  },
  {
   "cell_type": "code",
   "execution_count": 96,
   "id": "e24dc34f",
   "metadata": {},
   "outputs": [
    {
     "name": "stdout",
     "output_type": "stream",
     "text": [
      "[[2. 3.]\n",
      " [3. 4.]]\n"
     ]
    }
   ],
   "source": [
    "x = np.sqrt(a)\n",
    "print(x)"
   ]
  },
  {
   "cell_type": "code",
   "execution_count": 97,
   "id": "4e596a31",
   "metadata": {},
   "outputs": [
    {
     "name": "stdout",
     "output_type": "stream",
     "text": [
      "[[1 2]\n",
      " [3 3]]\n"
     ]
    }
   ],
   "source": [
    "b = b.T\n",
    "print(b)"
   ]
  },
  {
   "cell_type": "code",
   "execution_count": 98,
   "id": "77d0808d",
   "metadata": {},
   "outputs": [],
   "source": [
    "# basic array operations "
   ]
  },
  {
   "cell_type": "code",
   "execution_count": 106,
   "id": "4e2af100",
   "metadata": {},
   "outputs": [
    {
     "name": "stdout",
     "output_type": "stream",
     "text": [
      "<class 'numpy.ndarray'>\n",
      "Array dimensions: 2\n",
      "Shape of array: (2, 4)\n",
      "Size of array: 8\n",
      "Elements datatype: int32\n"
     ]
    }
   ],
   "source": [
    "a = np.array([[1,2,3,4],[5,6,7,8]])\n",
    "print(type(a))\n",
    "print(\"Array dimensions:\",a.ndim)\n",
    "print(\"Shape of array:\",a.shape)\n",
    "print(\"Size of array:\",a.size)\n",
    "print(\"Elements datatype:\",a.dtype)"
   ]
  },
  {
   "cell_type": "code",
   "execution_count": 109,
   "id": "9b55d4cb",
   "metadata": {},
   "outputs": [
    {
     "name": "stdout",
     "output_type": "stream",
     "text": [
      "[[0. 0.]\n",
      " [0. 0.]]\n"
     ]
    }
   ],
   "source": [
    "#creating 2x2 array with zeroes \n",
    "\n",
    "x = np.zeros((2,2))\n",
    "print(x)"
   ]
  },
  {
   "cell_type": "code",
   "execution_count": 110,
   "id": "14674e8f",
   "metadata": {},
   "outputs": [
    {
     "name": "stdout",
     "output_type": "stream",
     "text": [
      "[[6 6]\n",
      " [6 6]]\n"
     ]
    }
   ],
   "source": [
    "# creating 2x2 array with constant value 6 \n",
    "\n",
    "x = np.full((2,2),6)\n",
    "print(x)"
   ]
  },
  {
   "cell_type": "code",
   "execution_count": 111,
   "id": "9485e862",
   "metadata": {},
   "outputs": [
    {
     "name": "stdout",
     "output_type": "stream",
     "text": [
      "[[6.+0.j 6.+0.j]\n",
      " [6.+0.j 6.+0.j]]\n"
     ]
    }
   ],
   "source": [
    "# creating 2x2 array with constant value 6 with type : complex\n",
    "\n",
    "x = np.full((2,2),6,dtype='complex')\n",
    "print(x)"
   ]
  },
  {
   "cell_type": "code",
   "execution_count": 124,
   "id": "54e50df3",
   "metadata": {},
   "outputs": [
    {
     "name": "stdout",
     "output_type": "stream",
     "text": [
      "[[0.66996678 0.04780959]\n",
      " [0.77124362 0.38801325]]\n"
     ]
    }
   ],
   "source": [
    "# creating 2x2 array with random value \n",
    "\n",
    "x = np.random.random((2,2))\n",
    "print(x)"
   ]
  },
  {
   "cell_type": "code",
   "execution_count": 116,
   "id": "dd8f5be7",
   "metadata": {},
   "outputs": [
    {
     "name": "stdout",
     "output_type": "stream",
     "text": [
      "[ 0  5 10 15 20 25]\n"
     ]
    }
   ],
   "source": [
    "# creating array within range(0-30) with step value(5)\n",
    "x = np.arange(0,30,5)\n",
    "print(x)"
   ]
  },
  {
   "cell_type": "code",
   "execution_count": 120,
   "id": "75d50d60",
   "metadata": {},
   "outputs": [
    {
     "name": "stdout",
     "output_type": "stream",
     "text": [
      "[  0  11  22  33  44  55  66  77  88 100]\n"
     ]
    }
   ],
   "source": [
    "# craeting sequence of n values(10) in range (0-5)\n",
    "x = np.linspace(0,100,10,dtype='int')\n",
    "print(x)"
   ]
  },
  {
   "cell_type": "code",
   "execution_count": null,
   "id": "ffa36a14",
   "metadata": {},
   "outputs": [],
   "source": [
    "# reshaping mxn array into n  mxn array eh: 2 3x2 arrays\n",
    "\n",
    "a = np.array([[1,2,3,4],\n",
    "              [5,6,7,8],\n",
    "              [3,4,5,6]])\n",
    "\n",
    "a.reshape(2,2,2) "
   ]
  },
  {
   "cell_type": "code",
   "execution_count": null,
   "id": "9807ebcd",
   "metadata": {},
   "outputs": [],
   "source": []
  }
 ],
 "metadata": {
  "kernelspec": {
   "display_name": "Python 3",
   "language": "python",
   "name": "python3"
  },
  "language_info": {
   "codemirror_mode": {
    "name": "ipython",
    "version": 3
   },
   "file_extension": ".py",
   "mimetype": "text/x-python",
   "name": "python",
   "nbconvert_exporter": "python",
   "pygments_lexer": "ipython3",
   "version": "3.8.8"
  }
 },
 "nbformat": 4,
 "nbformat_minor": 5
}
