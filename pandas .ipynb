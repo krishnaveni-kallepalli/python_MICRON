{
 "cells": [
  {
   "cell_type": "code",
   "execution_count": 17,
   "id": "94469291",
   "metadata": {},
   "outputs": [
    {
     "name": "stdout",
     "output_type": "stream",
     "text": [
      "0    1\n",
      "1    2\n",
      "2    3\n",
      "3    4\n",
      "4    5\n",
      "dtype: int32\n"
     ]
    }
   ],
   "source": [
    "import pandas as pd \n",
    "import numpy as np \n",
    "\n",
    "data = np.array([1,2,3,4,5])\n",
    "s = pd.Series(dtype='int')\n",
    "\n",
    "s = pd.Series(data)\n",
    "print(s)"
   ]
  },
  {
   "cell_type": "code",
   "execution_count": 18,
   "id": "bc5ba21f",
   "metadata": {},
   "outputs": [],
   "source": [
    "# creating data frame "
   ]
  },
  {
   "cell_type": "code",
   "execution_count": 31,
   "id": "ff28c684",
   "metadata": {},
   "outputs": [
    {
     "name": "stdout",
     "output_type": "stream",
     "text": [
      "Empty DataFrame\n",
      "Columns: []\n",
      "Index: []\n",
      "             0\n",
      "0           hi\n",
      "1        hello\n",
      "2  how are you\n"
     ]
    }
   ],
   "source": [
    "import pandas as pd \n",
    "df = pd.DataFrame()\n",
    "print(df)\n",
    "l=['hi','hello','how are you']\n",
    "df = pd.DataFrame(l)\n",
    "print(df)"
   ]
  },
  {
   "cell_type": "code",
   "execution_count": 37,
   "id": "c04d778c",
   "metadata": {},
   "outputs": [
    {
     "name": "stdout",
     "output_type": "stream",
     "text": [
      "Empty DataFrame\n",
      "Columns: []\n",
      "Index: []\n",
      "    0      1            2\n",
      "0   2      3            4\n",
      "1  hi  hello  how are you\n"
     ]
    }
   ],
   "source": [
    "import pandas as pd \n",
    "df = pd.DataFrame()\n",
    "print(df)\n",
    "l=[[2,3,4],['hi','hello','how are you']]\n",
    "df = pd.DataFrame(l)\n",
    "print(df)"
   ]
  },
  {
   "cell_type": "code",
   "execution_count": 38,
   "id": "72ee1ead",
   "metadata": {},
   "outputs": [
    {
     "name": "stdout",
     "output_type": "stream",
     "text": [
      "Empty DataFrame\n",
      "Columns: []\n",
      "Index: []\n",
      "   0  1  2  3\n",
      "0  1  2  3  4\n",
      "1  5  6  7  8\n",
      "2  3  4  5  6\n"
     ]
    }
   ],
   "source": [
    "import pandas as pd \n",
    "df = pd.DataFrame()\n",
    "print(df)\n",
    "l=[[1,2,3,4],[5,6,7,8],[3,4,5,6]]\n",
    "df = pd.DataFrame(l)\n",
    "print(df)\n",
    "\n"
   ]
  },
  {
   "cell_type": "code",
   "execution_count": 40,
   "id": "09bb45a8",
   "metadata": {},
   "outputs": [
    {
     "name": "stdout",
     "output_type": "stream",
     "text": [
      "Empty DataFrame\n",
      "Columns: []\n",
      "Index: []\n",
      "   0  1  2\n",
      "0  a  b  c\n",
      "1  d  e  f\n",
      "2  g  h  i\n"
     ]
    }
   ],
   "source": [
    "import pandas as pd \n",
    "df = pd.DataFrame()\n",
    "print(df)\n",
    "l=[['a','b','c'],['d','e','f'],['g','h','i']]\n",
    "df = pd.DataFrame(l)\n",
    "print(df)\n"
   ]
  },
  {
   "cell_type": "code",
   "execution_count": 45,
   "id": "69a4ccbd",
   "metadata": {},
   "outputs": [
    {
     "name": "stdout",
     "output_type": "stream",
     "text": [
      "Empty DataFrame\n",
      "Columns: []\n",
      "Index: []\n",
      "    Name  Marks  Gender\n",
      "0    Anu   95.5    Male\n",
      "1  Sunny   65.7  Female\n",
      "2   Yash   85.1    Male\n",
      "3   Tony   75.4    Male\n"
     ]
    }
   ],
   "source": [
    "import pandas as pd\n",
    "df = pd.DataFrame()\n",
    "print(df)\n",
    "age = [['Anu', 95.5, \"Male\"], ['Sunny', 65.7, \"Female\"],\n",
    "       ['Yash', 85.1, \"Male\"], ['Tony', 75.4, \"Male\"]]\n",
    " \n",
    "df = pd.DataFrame(age, columns=['Name', 'Marks', 'Gender'])\n",
    "print(df)"
   ]
  },
  {
   "cell_type": "code",
   "execution_count": null,
   "id": "447e618b",
   "metadata": {},
   "outputs": [],
   "source": []
  }
 ],
 "metadata": {
  "kernelspec": {
   "display_name": "Python 3",
   "language": "python",
   "name": "python3"
  },
  "language_info": {
   "codemirror_mode": {
    "name": "ipython",
    "version": 3
   },
   "file_extension": ".py",
   "mimetype": "text/x-python",
   "name": "python",
   "nbconvert_exporter": "python",
   "pygments_lexer": "ipython3",
   "version": "3.8.8"
  }
 },
 "nbformat": 4,
 "nbformat_minor": 5
}
