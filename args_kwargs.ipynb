{
 "cells": [
  {
   "cell_type": "code",
   "execution_count": 1,
   "id": "5ee99f86",
   "metadata": {},
   "outputs": [
    {
     "name": "stdout",
     "output_type": "stream",
     "text": [
      "{'wirelength': -1.0, 'congestion': -1.0, 'density': -1.0}\n",
      "first : hello\n",
      "mid : hie\n",
      "last : bye\n"
     ]
    }
   ],
   "source": [
    "\n",
    "COST_COMPONENTS = ['wirelength', 'congestion', 'density']\n",
    "info = {cost: -1.0 for cost in COST_COMPONENTS}\n",
    "print(info)\n",
    "\n",
    "def myFun(arg1, **kwargs):\n",
    "    for key, value in kwargs.items():\n",
    "        print(\"%s : %s\" % (key, value))\n",
    "myFun(\"Hi\", first='hello', mid='hie', last='bye')\n",
    "\n",
    "\n",
    "\n",
    "\n"
   ]
  },
  {
   "cell_type": "code",
   "execution_count": null,
   "id": "74b9416e",
   "metadata": {},
   "outputs": [],
   "source": [
    "def fun(arg1,arg2):\n",
    "    print(\"Arg1:{0}, Arg2:{1}\".format(arg1,arg2))\n",
    "args = (\"hi\",\"hello\")\n",
    "fun(*args)\n",
    "args = (\"this \",\"that\")\n",
    "fun(*args)\n",
    "kwargs = (\"hellothere\",\"here\")\n",
    "fun(*kwargs)"
   ]
  }
 ],
 "metadata": {
  "kernelspec": {
   "display_name": "Python 3",
   "language": "python",
   "name": "python3"
  },
  "language_info": {
   "codemirror_mode": {
    "name": "ipython",
    "version": 3
   },
   "file_extension": ".py",
   "mimetype": "text/x-python",
   "name": "python",
   "nbconvert_exporter": "python",
   "pygments_lexer": "ipython3",
   "version": "3.8.8"
  }
 },
 "nbformat": 4,
 "nbformat_minor": 5
}
